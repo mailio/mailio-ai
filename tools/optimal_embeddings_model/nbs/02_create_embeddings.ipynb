{
 "cells": [
  {
   "cell_type": "code",
   "execution_count": 1,
   "metadata": {},
   "outputs": [],
   "source": [
    "#| default_exp create_embeddings\n",
    "\n",
    "%load_ext autoreload\n",
    "%autoreload 2"
   ]
  },
  {
   "cell_type": "code",
   "execution_count": 2,
   "metadata": {},
   "outputs": [
    {
     "name": "stderr",
     "output_type": "stream",
     "text": [
      "/Users/igor/workspace/mailio-ai/.venv/lib/python3.10/site-packages/tqdm/auto.py:21: TqdmWarning: IProgress not found. Please update jupyter and ipywidgets. See https://ipywidgets.readthedocs.io/en/stable/user_install.html\n",
      "  from .autonotebook import tqdm as notebook_tqdm\n"
     ]
    }
   ],
   "source": [
    "#| export\n",
    "\n",
    "from typing import List, Optional\n",
    "import torch\n",
    "from transformers import PreTrainedModel, PreTrainedTokenizer, BatchEncoding\n",
    "from transformers import AutoTokenizer, AutoModel\n",
    "from sentence_transformers.models import Pooling\n",
    "import sys\n",
    "import os\n",
    "import json\n",
    "import numpy as np\n",
    "import time\n",
    "from tqdm.auto import tqdm\n",
    "import torch.nn.functional as F\n",
    "\n",
    "from dotenv import load_dotenv\n",
    "\n",
    "load_dotenv()\n",
    "\n",
    "sys.path.append(\"..\")  # Adds the parent directory to sys path\n",
    "\n",
    "from mailio_ai_libs.chunking import Chunker\n",
    "from data_types.email import Email, MessageType"
   ]
  },
  {
   "cell_type": "code",
   "execution_count": null,
   "metadata": {},
   "outputs": [
    {
     "name": "stdout",
     "output_type": "stream",
     "text": [
      "model id:  intfloat/e5-small-v2\n"
     ]
    }
   ],
   "source": [
    "model_id = os.getenv(\"MODEL_ID\")\n",
    "print(\"model id: \", model_id)"
   ]
  },
  {
   "cell_type": "code",
   "execution_count": 4,
   "metadata": {},
   "outputs": [],
   "source": [
    "#| export\n",
    "\n",
    "class Embedder:\n",
    "\n",
    "    def __init__(self, model: PreTrainedModel, tokenizer: PreTrainedTokenizer):\n",
    "        self.model = model\n",
    "        self.model.eval()\n",
    "        self.tokenizer = tokenizer\n",
    "        self.max_length = self.model.config.max_position_embeddings  # Model-specific max lengt\n",
    "        self.chunker = Chunker(tokenizer, chunk_size=self.max_length-2, chunk_overlap=0)\n",
    "    \n",
    "    def embed(self, text:List[str]) -> torch.Tensor:\n",
    "        \"\"\"\n",
    "        Generate embeddings for a list of texts.\n",
    "        \n",
    "        Args:\n",
    "            text (List[str]): List of input texts.\n",
    "            chunk_size (Optional[int]): If text is too long, split it into chunks of this size. If None, no chunking is done.\n",
    "        \n",
    "        Returns:\n",
    "            numpy.ndarray: Embeddings for the input texts.\n",
    "        \"\"\"\n",
    "        \n",
    "        # Tokenize the input text\n",
    "        chunks = self.chunker.chunk(\".\".join(text))\n",
    "        embeddings = []\n",
    "\n",
    "        input_texts = []\n",
    "        for ch in chunks:\n",
    "            input_texts.append(ch)\n",
    "        \n",
    "        inputs = self.tokenizer(input_texts, padding=True, truncation=True, return_tensors=\"pt\")\n",
    "        inputs = inputs.to(self.model.device)\n",
    "\n",
    "        with torch.no_grad():\n",
    "            # Forward pass\n",
    "            outputs = self.model(**inputs)\n",
    "        \n",
    "        # Perform pooling.\n",
    "        sentence_embeddings = self.mean_pooling(outputs, inputs['attention_mask'])\n",
    "\n",
    "        # Convert to numpy array and return\n",
    "        # Move tensors in the list to CPU and convert them to numpy arrays\n",
    "        return sentence_embeddings.cpu().numpy()\n",
    "\n",
    "        #Mean Pooling - Take attention mask into account for correct averaging\n",
    "    def mean_pooling(self, model_output, attention_mask):\n",
    "        token_embeddings = model_output.last_hidden_state\n",
    "        input_mask_expanded = attention_mask.unsqueeze(-1).expand(token_embeddings.size()).float()\n",
    "        return torch.sum(token_embeddings * input_mask_expanded, 1) / torch.clamp(input_mask_expanded.sum(1), min=1e-9)\n",
    "\n"
   ]
  },
  {
   "cell_type": "code",
   "execution_count": 6,
   "metadata": {},
   "outputs": [
    {
     "name": "stdout",
     "output_type": "stream",
     "text": [
      "loaded model:  BertConfig {\n",
      "  \"_attn_implementation_autoset\": true,\n",
      "  \"_name_or_path\": \"intfloat/e5-small-v2\",\n",
      "  \"architectures\": [\n",
      "    \"BertModel\"\n",
      "  ],\n",
      "  \"attention_probs_dropout_prob\": 0.1,\n",
      "  \"classifier_dropout\": null,\n",
      "  \"hidden_act\": \"gelu\",\n",
      "  \"hidden_dropout_prob\": 0.1,\n",
      "  \"hidden_size\": 384,\n",
      "  \"initializer_range\": 0.02,\n",
      "  \"intermediate_size\": 1536,\n",
      "  \"layer_norm_eps\": 1e-12,\n",
      "  \"max_position_embeddings\": 512,\n",
      "  \"model_type\": \"bert\",\n",
      "  \"num_attention_heads\": 12,\n",
      "  \"num_hidden_layers\": 12,\n",
      "  \"pad_token_id\": 0,\n",
      "  \"position_embedding_type\": \"absolute\",\n",
      "  \"torch_dtype\": \"float32\",\n",
      "  \"transformers_version\": \"4.48.1\",\n",
      "  \"type_vocab_size\": 2,\n",
      "  \"use_cache\": true,\n",
      "  \"vocab_size\": 30522\n",
      "}\n",
      "\n"
     ]
    }
   ],
   "source": [
    "tokenizer = AutoTokenizer.from_pretrained(model_id)\n",
    "model = AutoModel.from_pretrained(model_id)\n",
    "\n",
    "embedder = Embedder(model, tokenizer)\n",
    "\n",
    "print(f\"loaded model: \", model.config)"
   ]
  },
  {
   "cell_type": "code",
   "execution_count": 7,
   "metadata": {},
   "outputs": [
    {
     "name": "stdout",
     "output_type": "stream",
     "text": [
      "torch.Size([3, 384]) torch.Size([1, 384])\n",
      "tensor([0.9309, 0.9633, 0.8184])\n"
     ]
    }
   ],
   "source": [
    "a1 = embedder.embed([\"That is a happy dog\"])\n",
    "a2 = embedder.embed([\"That is a very happy person\"])\n",
    "a3 = embedder.embed([\"Today is a sunny day\"])\n",
    "\n",
    "embeddings = np.vstack([a1, a2, a3])\n",
    "emb = torch.from_numpy(embeddings)\n",
    "query = torch.from_numpy(embedder.embed([\"That is a happy person\"]))\n",
    "print(emb.shape, query.shape)\n",
    "\n",
    "# Calculate cosine similarity\n",
    "cosine_scores = F.cosine_similarity(query, emb, dim=1)\n",
    "print(cosine_scores)"
   ]
  },
  {
   "cell_type": "code",
   "execution_count": 8,
   "metadata": {},
   "outputs": [
    {
     "name": "stderr",
     "output_type": "stream",
     "text": [
      "Processing emails for emails_inbox.jsonl: 100%|██████████| 2694/2694 [02:15<00:00, 19.86it/s]\n",
      "Processing emails for emails_goodreads.jsonl: 100%|██████████| 4024/4024 [02:37<00:00, 25.50it/s]\n",
      "Processing emails for emails_archive.jsonl: 100%|██████████| 5714/5714 [03:06<00:00, 30.56it/s]\n"
     ]
    }
   ],
   "source": [
    "# list all jsonl files from data (inbox, archive, goodreads,...)\n",
    "data_dir = '../data'\n",
    "files = [f for f in os.listdir(data_dir) if f.endswith(\".jsonl\") and os.path.isfile(os.path.join(data_dir, f))]\n",
    "\n",
    "output_subfolder = model_id.split(\"/\")[-1]\n",
    "output_folder = f\"../data/{output_subfolder}\"\n",
    "os.makedirs(output_folder, exist_ok=True)\n",
    "\n",
    "emebddings_filename = \"embeddings\"\n",
    "\n",
    "all_embeddings_index = []\n",
    "all_embeddings = []\n",
    "all_embeddings_timing = []\n",
    "\n",
    "# create embeddings\n",
    "for file in files:\n",
    "\n",
    "    with open(os.path.join(data_dir, file), 'r') as f:\n",
    "        jsonl = f.read()\n",
    "    data = jsonl.split('\\n')\n",
    "    data = [json.loads(d) for d in data if d]\n",
    "    for item in tqdm(data, desc=\"Processing emails for {}\".format(file)):\n",
    "        email = Email.from_dict(item)\n",
    "        text = []\n",
    "        if email.sender_name:\n",
    "            text.append(f\"sent from {email.sender_name}\")\n",
    "        if email.subject:\n",
    "            text = [email.subject]\n",
    "        if len(email.sentences) > 0:\n",
    "            text.extend(email.sentences)\n",
    "        \n",
    "        if len(text) == 0: # nothing to embed\n",
    "            continue\n",
    "        \n",
    "        start_time = time.time()\n",
    "        embeddings = embedder.embed(text)\n",
    "        elapsed_time = time.time() - start_time\n",
    "        all_embeddings_timing.append(elapsed_time)\n",
    "\n",
    "        all_embeddings.extend(embeddings)\n",
    "        # add to index number of == len(embeddings) \n",
    "        all_embeddings_index.extend([email.message_id] * len(embeddings))\n",
    "\n",
    "        assert len(all_embeddings_index) == len(all_embeddings)"
   ]
  },
  {
   "cell_type": "code",
   "execution_count": 9,
   "metadata": {},
   "outputs": [
    {
     "data": {
      "text/plain": [
       "(16328, 16328, 12432)"
      ]
     },
     "execution_count": 9,
     "metadata": {},
     "output_type": "execute_result"
    }
   ],
   "source": [
    "len(all_embeddings), len(all_embeddings_index), len(all_embeddings_timing)"
   ]
  },
  {
   "cell_type": "code",
   "execution_count": 10,
   "metadata": {},
   "outputs": [
    {
     "name": "stdout",
     "output_type": "stream",
     "text": [
      "(16328, 384) (16328,)\n"
     ]
    }
   ],
   "source": [
    "np_emebddings = np.vstack(all_embeddings)\n",
    "embeddings_index = np.array(all_embeddings_index)\n",
    "\n",
    "print(np_emebddings.shape, embeddings_index.shape)"
   ]
  },
  {
   "cell_type": "code",
   "execution_count": 11,
   "metadata": {},
   "outputs": [],
   "source": [
    "# Save the embeddings to a file\n",
    "with open(os.path.join(output_folder, f\"{emebddings_filename}.npy\"), 'wb') as f:\n",
    "    np.save(f, np_emebddings)\n",
    "\n",
    "with open(os.path.join(output_folder, f\"{emebddings_filename}_index.npy\"), 'wb') as f:\n",
    "    np.save(f, embeddings_index)"
   ]
  },
  {
   "cell_type": "code",
   "execution_count": 12,
   "metadata": {},
   "outputs": [
    {
     "name": "stdout",
     "output_type": "stream",
     "text": [
      "\n",
      "Average embedding time: 0.0385 seconds\n"
     ]
    }
   ],
   "source": [
    "average_time = sum(all_embeddings_timing) / len(all_embeddings_timing)\n",
    "print(f\"\\nAverage embedding time: {average_time:.4f} seconds\")"
   ]
  },
  {
   "cell_type": "code",
   "execution_count": 13,
   "metadata": {},
   "outputs": [],
   "source": [
    "#| hide\n",
    "\n",
    "import nbdev; nbdev.nbdev_export()"
   ]
  },
  {
   "cell_type": "code",
   "execution_count": null,
   "metadata": {},
   "outputs": [],
   "source": []
  }
 ],
 "metadata": {
  "kernelspec": {
   "display_name": ".venv",
   "language": "python",
   "name": "python3"
  },
  "language_info": {
   "codemirror_mode": {
    "name": "ipython",
    "version": 3
   },
   "file_extension": ".py",
   "mimetype": "text/x-python",
   "name": "python",
   "nbconvert_exporter": "python",
   "pygments_lexer": "ipython3",
   "version": "3.10.8"
  }
 },
 "nbformat": 4,
 "nbformat_minor": 2
}
