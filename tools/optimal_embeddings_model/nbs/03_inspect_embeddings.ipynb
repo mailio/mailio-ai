{
 "cells": [
  {
   "cell_type": "code",
   "execution_count": 1,
   "metadata": {},
   "outputs": [
    {
     "name": "stderr",
     "output_type": "stream",
     "text": [
      "/Users/igor/workspace/mailio-ai/.venv/lib/python3.10/site-packages/tqdm/auto.py:21: TqdmWarning: IProgress not found. Please update jupyter and ipywidgets. See https://ipywidgets.readthedocs.io/en/stable/user_install.html\n",
      "  from .autonotebook import tqdm as notebook_tqdm\n"
     ]
    },
    {
     "name": "stdout",
     "output_type": "stream",
     "text": [
      "model id:  intfloat/e5-small-v2\n"
     ]
    }
   ],
   "source": [
    "import numpy as np\n",
    "import torch\n",
    "from transformers import PreTrainedModel, PreTrainedTokenizer, BatchEncoding\n",
    "from transformers import AutoTokenizer, AutoModel\n",
    "import sys\n",
    "import os\n",
    "import json\n",
    "import torch.nn.functional as F\n",
    "from dotenv import load_dotenv\n",
    "\n",
    "load_dotenv()\n",
    "\n",
    "sys.path.append(\"..\")  # Adds the parent directory to sys path\n",
    "\n",
    "from mailio_ai_libs.create_embeddings import Embedder"
   ]
  },
  {
   "cell_type": "code",
   "execution_count": 2,
   "metadata": {},
   "outputs": [
    {
     "name": "stdout",
     "output_type": "stream",
     "text": [
      "intfloat/e5-small-v2\n"
     ]
    }
   ],
   "source": [
    "model_id = os.getenv(\"MODEL_ID\")\n",
    "print(model_id)"
   ]
  },
  {
   "cell_type": "code",
   "execution_count": 3,
   "metadata": {},
   "outputs": [],
   "source": [
    "base_data_dir = \"../data\"\n",
    "subfolder = model_id.split(\"/\")[-1]\n",
    "data_dir = f\"{base_data_dir}/{subfolder}\"\n",
    "embeddings_path = f\"{data_dir}/embeddings.npy\"\n",
    "index_path = f\"{data_dir}/embeddings_index.npy\"\n",
    "jsonl_files = [f for f in os.listdir(base_data_dir) if f.endswith(\".jsonl\") and os.path.isfile(os.path.join(base_data_dir, f))]"
   ]
  },
  {
   "cell_type": "code",
   "execution_count": 4,
   "metadata": {},
   "outputs": [],
   "source": [
    "# convert database to dictionary by id\n",
    "database_dict = {}\n",
    "for file in jsonl_files:\n",
    "    file_path = os.path.join(base_data_dir, file)\n",
    "    with open(file_path, \"r\") as f:\n",
    "        lines = f.read()\n",
    "    lines = lines.split(\"\\n\")\n",
    "    for line in lines:\n",
    "        if line == \"\":\n",
    "            continue\n",
    "        j = json.loads(line)\n",
    "        if \"message_id\" in j:\n",
    "            database_dict[j[\"message_id\"]] = j"
   ]
  },
  {
   "cell_type": "code",
   "execution_count": 5,
   "metadata": {},
   "outputs": [
    {
     "data": {
      "text/plain": [
       "12432"
      ]
     },
     "execution_count": 5,
     "metadata": {},
     "output_type": "execute_result"
    }
   ],
   "source": [
    "len(database_dict)"
   ]
  },
  {
   "cell_type": "code",
   "execution_count": 6,
   "metadata": {},
   "outputs": [],
   "source": [
    "embeddings = np.load(embeddings_path)\n",
    "index = np.load(index_path)"
   ]
  },
  {
   "cell_type": "code",
   "execution_count": 7,
   "metadata": {},
   "outputs": [
    {
     "name": "stdout",
     "output_type": "stream",
     "text": [
      "(16328, 384) (16328,)\n"
     ]
    }
   ],
   "source": [
    "# sanity check the shapes\n",
    "print(embeddings.shape, index.shape)\n",
    "assert embeddings.shape[0] == index.shape[0]"
   ]
  },
  {
   "cell_type": "code",
   "execution_count": 8,
   "metadata": {},
   "outputs": [],
   "source": [
    "embeddings = torch.from_numpy(embeddings)"
   ]
  },
  {
   "cell_type": "code",
   "execution_count": 9,
   "metadata": {},
   "outputs": [
    {
     "data": {
      "text/plain": [
       "torch.Size([16328, 384])"
      ]
     },
     "execution_count": 9,
     "metadata": {},
     "output_type": "execute_result"
    }
   ],
   "source": [
    "embeddings.shape"
   ]
  },
  {
   "cell_type": "code",
   "execution_count": 10,
   "metadata": {},
   "outputs": [],
   "source": [
    "embeddings = F.normalize(embeddings, p=2, dim=1)"
   ]
  },
  {
   "cell_type": "code",
   "execution_count": 11,
   "metadata": {},
   "outputs": [],
   "source": [
    "# quantize the embeddings\n",
    "# embeddings = embeddings.type(torch.HalfTensor)"
   ]
  },
  {
   "cell_type": "code",
   "execution_count": 12,
   "metadata": {},
   "outputs": [],
   "source": [
    "tokenizer = AutoTokenizer.from_pretrained(model_id)\n",
    "model = AutoModel.from_pretrained(model_id)\n",
    "\n",
    "embedder = Embedder(model, tokenizer)"
   ]
  },
  {
   "cell_type": "code",
   "execution_count": 13,
   "metadata": {},
   "outputs": [],
   "source": [
    "def search_embeddings(embedder, query, embeddings, index, limit=10):\n",
    "    q = torch.from_numpy(embedder.embed([query]))\n",
    "    q = F.normalize(q, p=2, dim=1)\n",
    "    similarity = F.cosine_similarity(q, embeddings, dim=1)\n",
    "    values, indices = similarity.topk(limit, dim=0)\n",
    "    return indices.detach().cpu().numpy().ravel(), values.detach().cpu().numpy().ravel()"
   ]
  },
  {
   "cell_type": "code",
   "execution_count": 14,
   "metadata": {},
   "outputs": [],
   "source": [
    "query = \"Zoom invitation on April 21, 2021\"\n",
    "indices, scores = search_embeddings(embedder, query, embeddings, index, limit=20)"
   ]
  },
  {
   "cell_type": "code",
   "execution_count": 15,
   "metadata": {},
   "outputs": [
    {
     "data": {
      "text/plain": [
       "(array([2164, 2271, 2176, 2049, 2270, 3889, 2025, 2026, 2050, 2346, 1946,\n",
       "        6102, 1804, 2344, 2244, 2233, 2317, 1350, 6113, 6085]),\n",
       " array([0.858194  , 0.85388947, 0.85373616, 0.8522421 , 0.851414  ,\n",
       "        0.85116816, 0.84978604, 0.8492924 , 0.84928286, 0.8490907 ,\n",
       "        0.84671575, 0.8457428 , 0.8451334 , 0.8424072 , 0.8417161 ,\n",
       "        0.8412122 , 0.84103715, 0.8401063 , 0.83927107, 0.83926976],\n",
       "       dtype=float32))"
      ]
     },
     "execution_count": 15,
     "metadata": {},
     "output_type": "execute_result"
    }
   ],
   "source": [
    "indices, scores"
   ]
  },
  {
   "cell_type": "code",
   "execution_count": 16,
   "metadata": {},
   "outputs": [
    {
     "name": "stdout",
     "output_type": "stream",
     "text": [
      "Score: 0.8581939935684204, Subject: Updated invitation: Igor <> Hakimo @ Fri Apr 30, 2021 9am - 10am\n",
      " (PDT) (igor@mail.io), id: <000000000000d0c0df05c11fa3cc@google.com>, sentences: ['This event has been changed.Igor <> HakimoWhenChanged: Fri Apr 30, 2021 9am  10am Pacific Time - Los AngelesCalendarigor@mail.ioWhosagar@hakimo.ai - organizeranuj@hakimo.aiigor@mail.io Sagar Honnungar is inviting you to a scheduled Zoom meeting.Join Zoom MeetingMeeting ID: 913 6424 4868Passcode: 135780One tap mobile+16699006833,,91364244868#,,,,*135780# US (San Jose)+12532158782,,91364244868#,,,,*135780# US (Tacoma)Dial by your location +1 669 900 6833 US (San Jose) +1 253 215 8782 US (Tacoma) +1 346 248 7799 US (Houston) +1 929 205 6099 US (New York) +1 301 715 8592 US (Washington DC) +1 312 626 6799 US (Chicago)Meeting ID: 913 6424 4868Passcode: 135780Find your local number: Going (igor@mail.io)?', '- - Invitation from You are receiving this courtesy email at the account igor@mail.io because you are an attendee of this event.To stop receiving future updates for this event, decline this event.', 'Alternatively you can sign up for a Google account at https://calendar.google.com/calendar/ and control your notification settings for your entire calendar.Forwarding this invitation could allow any recipient to send a response to the organizer and be added to the guest list, or invite others regardless of their own invitation status, or to modify your RSVP.', '.']\n",
      "Score: 0.8538894653320312, Subject: Invitation: Igor/Izhar - 7Data @ Wed Apr 21, 2021 2pm - 3pm (EDT)\n",
      " (igor@mail.io), id: <0000000000000310af05c00dc0cc@google.com>, sentences: [\"You have been invited to the following event.Igor/Izhar - 7DataWhenWed Apr 21, 2021 2pm  3pm Eastern Time - New YorkWherehttps://zoom.us/j/3388930494?pwd=R1U4ejc2dWUwMzFuUUsxUjA0MVBwdz09 ()Calendarigor@mail.ioWhoiz@iz42.com - organizerigor@chryscloud.comdvir.koren1@gmail.comigor@mail.io Izhar Sharon is inviting you to a scheduled Zoom meeting.Topic: Izhar Sharon's Personal Meeting RoomJoin Zoom MeetingMeeting ID: 338 893 0494Passcode: sunday----------------------------Hi IzharGreat to meet you too.\", 'Yeah.', \"Let's meet next week.\", 'How does Wednesday the 21th at 11am PST sound for you?Best,IgorOn Tue, Apr 13, 2021 at 9:23 AM Izhar Sharon wrote:Thank you, Ajay (bcced).Igor,Great to meet you.I am working on a data distribution network venture that should help edge applications share and distribute data to the right place at the right time - addressing data gravity, management and latency challengesOur background is data protection and mobility, and networking.Appreciate if we could chat to share and learn and check for synergy.', 'Be good to connect, regardless.Please let me know if you have availability in the next week or so.Best regards,izharIzhar Sharonemail: mobile: 508-494-8338On Apr 13, 2021, at 11:10 AM, Ajay Ramachandran wrote:Hi Igor and Izhar -Please meet.', 'I look forward to hearing how the discussion goes and if theres opportunity for you to collaborate.AjayGoing (igor@mail.io)?', '- - Invitation from You are receiving this courtesy email at the account igor@mail.io because you are an attendee of this event.To stop receiving future updates for this event, decline this event.', 'Alternatively you can sign up for a Google account at https://calendar.google.com/calendar/ and control your notification settings for your entire calendar.Forwarding this invitation could allow any recipient to send a response to the organizer and be added to the guest list, or invite others regardless of their own invitation status, or to modify your RSVP.', '.']\n",
      "Score: 0.853736162185669, Subject: Invitation: Igor <> Hakimo @ Fri Apr 30, 2021 9:30am - 10:30am\n",
      " (PDT) (igor@mail.io), id: <000000000000ac7aef05c0f75d7a@google.com>, sentences: ['You have been invited to the following event.Igor <> HakimoWhenFri Apr 30, 2021 9:30am  10:30am Pacific Time - Los AngelesCalendarigor@mail.ioWhosagar@hakimo.ai - organizeranuj@hakimo.aiigor@mail.io Sagar Honnungar is inviting you to a scheduled Zoom meeting.Join Zoom MeetingMeeting ID: 913 6424 4868Passcode: 135780One tap mobile+16699006833,,91364244868#,,,,*135780# US (San Jose)+12532158782,,91364244868#,,,,*135780# US (Tacoma)Dial by your location +1 669 900 6833 US (San Jose) +1 253 215 8782 US (Tacoma) +1 346 248 7799 US (Houston) +1 929 205 6099 US (New York) +1 301 715 8592 US (Washington DC) +1 312 626 6799 US (Chicago)Meeting ID: 913 6424 4868Passcode: 135780Find your local number: Going (igor@mail.io)?', '- - Invitation from You are receiving this courtesy email at the account igor@mail.io because you are an attendee of this event.To stop receiving future updates for this event, decline this event.', 'Alternatively you can sign up for a Google account at https://calendar.google.com/calendar/ and control your notification settings for your entire calendar.Forwarding this invitation could allow any recipient to send a response to the organizer and be added to the guest list, or invite others regardless of their own invitation status, or to modify your RSVP.', '.']\n",
      "Score: 0.852242112159729, Subject: CueMate, id: <58885070-25C8-4361-9F92-FB4108EA4917@gmail.com>, sentences: ['CueMateScheduled: May 20, 2021 at 1:30 PM to 2:30 PM, PDTInvitees: Sent from my iPhone']\n",
      "Score: 0.8514140248298645, Subject: Invitation: Igor/Izhar - 7Data @ Wed Apr 21, 2021 2pm - 3pm (EDT)\n",
      " (igor@mail.io), id: <0000000000000310af05c00dc0cc@google.com>, sentences: [\"You have been invited to the following event.Igor/Izhar - 7DataWhenWed Apr 21, 2021 2pm  3pm Eastern Time - New YorkWherehttps://zoom.us/j/3388930494?pwd=R1U4ejc2dWUwMzFuUUsxUjA0MVBwdz09 ()Calendarigor@mail.ioWhoiz@iz42.com - organizerigor@chryscloud.comdvir.koren1@gmail.comigor@mail.io Izhar Sharon is inviting you to a scheduled Zoom meeting.Topic: Izhar Sharon's Personal Meeting RoomJoin Zoom MeetingMeeting ID: 338 893 0494Passcode: sunday----------------------------Hi IzharGreat to meet you too.\", 'Yeah.', \"Let's meet next week.\", 'How does Wednesday the 21th at 11am PST sound for you?Best,IgorOn Tue, Apr 13, 2021 at 9:23 AM Izhar Sharon wrote:Thank you, Ajay (bcced).Igor,Great to meet you.I am working on a data distribution network venture that should help edge applications share and distribute data to the right place at the right time - addressing data gravity, management and latency challengesOur background is data protection and mobility, and networking.Appreciate if we could chat to share and learn and check for synergy.', 'Be good to connect, regardless.Please let me know if you have availability in the next week or so.Best regards,izharIzhar Sharonemail: mobile: 508-494-8338On Apr 13, 2021, at 11:10 AM, Ajay Ramachandran wrote:Hi Igor and Izhar -Please meet.', 'I look forward to hearing how the discussion goes and if theres opportunity for you to collaborate.AjayGoing (igor@mail.io)?', '- - Invitation from You are receiving this courtesy email at the account igor@mail.io because you are an attendee of this event.To stop receiving future updates for this event, decline this event.', 'Alternatively you can sign up for a Google account at https://calendar.google.com/calendar/ and control your notification settings for your entire calendar.Forwarding this invitation could allow any recipient to send a response to the organizer and be added to the guest list, or invite others regardless of their own invitation status, or to modify your RSVP.', '.']\n",
      "Score: 0.851168155670166, Subject: None, id: <CAGbyn1QFEkTU3a0XH9CpR2Bd78CQeQ-ZSoOFir8ZecRbRwA-Sg@mail.gmail.com>, sentences: ['Ashley Smith is inviting you to a scheduled Zoom meeting.Topic: Exposing Married People During Shelter-in-Place /Group Therapy on Zoom lolTime: Apr 19, 2020 07:00 PM Pacific Time (US and Canada)Join Zoom MeetingMeeting ID: 986 8883 8642']\n",
      "Score: 0.8497860431671143, Subject: Updated invitation: igor <> icuemotion @ Thu May 20, 2021 1:30pm -\n",
      " 2:30pm (PDT) (igor@mail.io), id: <000000000000d9a15a05c2b27d61@google.com>, sentences: ['This event has been changed.igor <> icuemotionWhenChanged: Thu May 20, 2021 1:30pm  2:30pm Pacific Time - Los AngelesCalendarigor@mail.ioWhosiva@icuemotion.com - organizerigor@mail.iopat@icuemotion.com Going (igor@mail.io)?', '- - Invitation from You are receiving this courtesy email at the account igor@mail.io because you are an attendee of this event.To stop receiving future updates for this event, decline this event.', 'Alternatively you can sign up for a Google account at https://calendar.google.com/calendar/ and control your notification settings for your entire calendar.Forwarding this invitation could allow any recipient to send a response to the organizer and be added to the guest list, or invite others regardless of their own invitation status, or to modify your RSVP.', '.']\n",
      "Score: 0.8492923974990845, Subject: Invitation: igor <> icuemotion @ Thu May 20, 2021 1:30pm - 2pm\n",
      " (PDT) (igor@mail.io), id: <00000000000066374a05c2b256b6@google.com>, sentences: ['You have been invited to the following event.igor <> icuemotionWhenThu May 20, 2021 1:30pm  2pm Pacific Time - Los AngelesCalendarigor@mail.ioWhosiva@icuemotion.com - organizerigor@mail.iopat@icuemotion.com Going (igor@mail.io)?', '- - Invitation from You are receiving this courtesy email at the account igor@mail.io because you are an attendee of this event.To stop receiving future updates for this event, decline this event.', 'Alternatively you can sign up for a Google account at https://calendar.google.com/calendar/ and control your notification settings for your entire calendar.Forwarding this invitation could allow any recipient to send a response to the organizer and be added to the guest list, or invite others regardless of their own invitation status, or to modify your RSVP.', '.']\n",
      "Score: 0.8492828607559204, Subject: Accepted: CueMate @ Thu May 20, 2021 14:30 - 15:30 (MDT)\n",
      " (igor.amplio@gmail.com), id: <00000000000033bf5f05c29dab71@google.com>, sentences: ['pmurphyjam@gmail.com has accepted this invitation.CueMateWhenThu May 20, 2021 14:30  15:30 Mountain Time - DenverJoining infoJoin with Google Meet Calendarigor.amplio@gmail.comWhoigor.amplio@gmail.com - organizerpmurphyjam@gmail.comOverview of project CueMateInvitation from You are receiving this email at the account igor.amplio@gmail.com because you are subscribed for invitation replies on calendar igor.amplio@gmail.com.To stop receiving these emails, please log in to https://calendar.google.com/calendar/ and change your notification settings for this calendar.Forwarding this invitation could allow any recipient to send a response to the organizer and be added to the guest list, or invite others regardless of their own invitation status, or to modify your RSVP.', '.']\n",
      "Score: 0.8490906953811646, Subject: GTC 2021 - Please Verify Your Email, id: <010101786fdfc374-bbc44b31-1ff9-47f6-9711-ea34cb1adea4-000000@us-west-2.amazonses.com>, sentences: ['NVIDIA GTC21 - Verify Your Account KEYNOTE APRIL 12 (PDT, UTC-7)CONFERENCE & TRAINING APRIL 12 - 16, 2021 (PDT, UTC-7) KEYNOTE APRIL 12 (PDT, UTC-7)CONFERENCE & TRAINING APRIL 12 - 16, 2021 (PDT, UTC-7) Verify Your Account Verify Your Account Dear Igor,Thank you for your interest in NVIDIA GTC 2021,taking place online Monday, April 12 - Friday, April 16, 2021, that kicks-off with Jensen Huangs keynote at 8:30 a.m. (PDT, UTC-7).', 'Please click on confirm now to verify your email and complete your registration.', 'Dear Igor,Thank you for your interest in NVIDIA GTC 2021,taking place online Monday, April 12 - Friday, April 16, 2021, that kicks-off with Jensen Huangs keynote at 8:30 a.m. (PDT, UTC-7).', 'Please click on confirm now to verify your email and complete your registration.', \"We're looking forward to having you join us for this incredible international event.\", \"If you have any questions, please refer to the , or contact us at .Sincerely,The GTC Conference Team We're looking forward to having you join us for this incredible international event.\", 'If you have any questions, please refer to the , or contact us at .Sincerely,The GTC Conference Team Follow NVIDIA #GTC21 | | | | | Copyright  2021 NVIDIA Corporation']\n",
      "Score: 0.8467157483100891, Subject: Invitation: Igor <> iCueMotion @ Thu May 27, 2021 13:00 - 13:30\n",
      " (MDT) (igor.amplio@gmail.com), id: <0000000000000728da05c3532ac2@google.com>, sentences: ['You have been invited to the following event.Igor <> iCueMotionWhenThu May 27, 2021 13:00  13:30 Mountain Time - DenverJoining infoJoin with Google Meet Join by phone(US) (PIN: 153588813)Calendarigor.amplio@gmail.comWhosiva@icuemotion.com - organizerigor.amplio@gmail.comberenice@icuemotion.compat@icuemotion.com Going (igor.amplio@gmail.com)?', '- - Invitation from You are receiving this email at the account igor.amplio@gmail.com because you are subscribed for invitations on calendar igor.amplio@gmail.com.To stop receiving these emails, please log in to https://calendar.google.com/calendar/ and change your notification settings for this calendar.Forwarding this invitation could allow any recipient to send a response to the organizer and be added to the guest list, or invite others regardless of their own invitation status, or to modify your RSVP.', '.']\n",
      "Score: 0.8457428216934204, Subject: Notification: CueMate @ Thu May 20, 2021 14:30 - 15:30 (MDT)\n",
      " (igor.amplio@gmail.com), id: <0000000000002bb75d05c2c8abdc@google.com>, sentences: ['CueMateWhenThu May 20, 2021 14:30  15:30 Mountain Time - DenverJoining infoJoin with Google Meet Calendarigor.amplio@gmail.comWhoigor.amplio@gmail.com - organizerpmurphyjam@gmail.com Overview of project CueMateGoing (igor.amplio@gmail.com)?', '- - Invitation from You are receiving this email at the account igor.amplio@gmail.com because you are subscribed for notifications on calendar igor.amplio@gmail.com.To stop receiving these emails, please log in to https://calendar.google.com/calendar/ and change your notification settings for this calendar.Forwarding this invitation could allow any recipient to send a response to the organizer and be added to the guest list, or invite others regardless of their own invitation status, or to modify your RSVP.', '.']\n",
      "Score: 0.8451334238052368, Subject: Invitation: Igor Rendulic and Marta Crowe @ Tue Jun 8, 2021\n",
      " 12:30pm - 12:45pm (PDT) (igor@mail.io), id: <000000000000e826c405c442baf5@google.com>, sentences: ['You have been invited to the following event.Igor Rendulic and Marta CroweWhenTue Jun 8, 2021 12:30pm  12:45pm Pacific Time - Los AngelesWhere+1 415-650-9238 ()Calendarigor@mail.ioWhomarta.crowe@gmail.com - organizerigor@mail.io Event Name: CueMate Intro CallA 15 minute call to give you an overview of the CueMate Beta Program, and answer any questions you may have.Location: +1 415-650-9238Please share anything that will help prepare for our meeting.', \": I'm developing new backend api for icuemateNeed to make changes to this event?Cancel: Reschedule: Powered by Calendly.comGoing (igor@mail.io)?\", '- - Invitation from You are receiving this courtesy email at the account igor@mail.io because you are an attendee of this event.To stop receiving future updates for this event, decline this event.', 'Alternatively you can sign up for a Google account at https://calendar.google.com/calendar/ and control your notification settings for your entire calendar.Forwarding this invitation could allow any recipient to send a response to the organizer and be added to the guest list, or invite others regardless of their own invitation status, or to modify your RSVP.', '.']\n",
      "Score: 0.8424072265625, Subject: GTC 2021 - Registration Complete, id: <010101786fe012f5-8c4592b7-7abb-4fa6-b995-5c4df44e531f-000000@us-west-2.amazonses.com>, sentences: [\"NVIDIA GTC21 - Registration Complete KEYNOTE APRIL 12 (PDT, UTC-7)CONFERENCE & TRAINING APRIL 12 - 16, 2021 (PDT, UTC-7) KEYNOTE APRIL 12 (PDT, UTC-7)CONFERENCE & TRAINING APRIL 12 - 16, 2021 (PDT, UTC-7) Registration Complete Registration Complete Dear Igor,Thank you for registering for NVIDIA GTC 2021, taking place online Monday, April 12 - Friday, April 16, 2021, that kicks-off with Jensen Huangs keynote at 8:30 a.m. (PDT, UTC-7) .We're looking forward to having you join us for this incredible international event.\", 'Please visit the for more information on event programming available in your time zone.To add an NVIDIA Deep Learning Institute (DLI) full-day workshop for $249 USD, .', \"You can find additional course descriptions and pricing details on the .If you have any questions please refer to the , or contact us .Sincerely,The GTC Conference Team Dear Igor,Thank you for registering for NVIDIA GTC 2021, taking place online Monday, April 12 - Friday, April 16, 2021, that kicks-off with Jensen Huangs keynote at 8:30 a.m. (PDT, UTC-7) .We're looking forward to having you join us for this incredible international event.\", 'Please visit the for more information on event programming available in your time zone.To add an NVIDIA Deep Learning Institute (DLI) full-day workshop for $249 USD, .', 'You can find additional course descriptions and pricing details on the .If you have any questions please refer to the , or contact us .Sincerely,The GTC Conference Team Follow NVIDIA #GTC21 | | | | | Copyright  2021 NVIDIA Corporation']\n",
      "Score: 0.8417161107063293, Subject: Invitation: Igor Rendulic and Sam Joseph @ Wed Apr 21, 2021 2pm -\n",
      " 2:30pm (PDT) (igor@mail.io), id: <00000000000021e80c05c05a3960@google.com>, sentences: ['You have been invited to the following event.Igor Rendulic and Sam JosephWhenWed Apr 21, 2021 2pm  2:30pm Pacific Time - Los AngelesWherehttps://zoom.us/j/98492184834?pwd=VXZycnc0cGJ1bGRRNmdCWWgxeTlVZz09 ()Calendarigor@mail.ioWhosam@hakimo.ai - organizerigor@mail.io Event Name: 30 Minute MeetingLocation: This is a Zoom web conference.You can join this meeting from your computer, tablet, or smartphone.Password: 858442You can also dial in using your phone.US: +1 301 715 8592, +1 312 626 6799, +1 929 205 6099, +1 253 215 8782, +1 346 248 7799, +1 669 900 6833Meeting ID: 984-921-84834Find your local number: Please share anything that will help prepare for our meeting.', ': Chat with Igor from Chrysalis cloudNeed to make changes to this event?Cancel: Reschedule: Powered by Calendly.comGoing (igor@mail.io)?', '- - Invitation from You are receiving this courtesy email at the account igor@mail.io because you are an attendee of this event.To stop receiving future updates for this event, decline this event.', 'Alternatively you can sign up for a Google account at https://calendar.google.com/calendar/ and control your notification settings for your entire calendar.Forwarding this invitation could allow any recipient to send a response to the organizer and be added to the guest list, or invite others regardless of their own invitation status, or to modify your RSVP.', '.']\n",
      "Score: 0.8412122130393982, Subject: Updated invitation: Igor/Izhar - 7Data @ Wed Apr 21, 2021 2pm -\n",
      " 3pm (EDT) (igor@mail.io), id: <00000000000083aa1705c07d0335@google.com>, sentences: ['This event has been changed.Igor/Izhar - 7DataWhenWed Apr 21, 2021 2pm  3pm Eastern Time - New YorkWhereChanged: https://us02web.zoom.us/j/85241478454?pwd=NGtxOTBDNU03b2Z5bmxWMTB2N0RlQT09 ()Calendarigor@mail.ioWhoiz@iz42.com - organizerigor@chryscloud.comdvir.koren1@gmail.comigor@mail.ioitai.rosenblatt@gmail.com Changed: Join Zoom MeetingMeeting ID: 852 4147 8454Passcode: 368672One tap mobile+97239786688,,85241478454#,,,,*368672# Israel+972553301762,,85241478454#,,,,*368672# IsraelDial by your location +972 3 978 6688 Israel +972 55 330 1762 Israel +1 312 626 6799 US (Chicago) +1 346 248 7799 US (Houston) +1 646 558 8656 US (New York) +1 669 900 9128 US (San Jose) +1 253 215 8782 US (Tacoma) +1 301 715 8592 US (Washington D.C)Meeting ID: 852 4147 8454Passcode: 368672Find your local number: ----------------------------Hi IzharGreat to meet you too.', 'Yeah.', \"Let's meet next week.\", 'How does Wednesday the 21th at 11am PST sound for you?Best,IgorOn Tue, Apr 13, 2021 at 9:23 AM Izhar Sharon wrote:Thank you, Ajay (bcced).Igor,Great to meet you.I am working on a data distribution network venture that should help edge applications share and distribute data to the right place at the right time - addressing data gravity, management and latency challengesOur background is data protection and mobility, and networking.Appreciate if we could chat to share and learn and check for synergy.', 'Be good to connect, regardless.Please let me know if you have availability in the next week or so.Best regards,izharIzhar Sharonemail: mobile: 508-494-8338On Apr 13, 2021, at 11:10 AM, Ajay Ramachandran wrote:Hi Igor and Izhar -Please meet.', 'I look forward to hearing how the discussion goes and if theres opportunity for you to collaborate.AjayGoing (igor@mail.io)?', '- - Invitation from You are receiving this courtesy email at the account igor@mail.io because you are an attendee of this event.To stop receiving future updates for this event, decline this event.', 'Alternatively you can sign up for a Google account at https://calendar.google.com/calendar/ and control your notification settings for your entire calendar.Forwarding this invitation could allow any recipient to send a response to the organizer and be added to the guest list, or invite others regardless of their own invitation status, or to modify your RSVP.', '.']\n",
      "Score: 0.8410371541976929, Subject: Re: Interview Prep, id: <CAH0miym701u84epA7QuuvNDaLp1Whk0rBuWEnPZ9CmspVekfnQ@mail.gmail.com>, sentences: ['Hi Igor,Absolutely and no problem--I will resend.', 'All best and thanks for the payment you sent,EmilyOn Wed, Mar 31, 2021 at 3:49 PM Igor Rendulic <> wrote:Tuesday 4-6pm sounds good.', 'Ive declined the sent invitation for zoom meeting since you sent 3-5pm and Ashley has a client in between 3-4pm.', 'Im talking in PST time which is your local time.', 'Could you resend the invite with the meeting time on Tuesday, April 6th, 4-6pm PST.', 'ThanksBest,Igor On Wed, Mar 31, 2021 at 4:38 PM Emily Wages <> wrote:Hi Igor,Sounds good.', 'How about planning an interview prep zoom for Tuesday April 6 from 4-6?Thanks,EmilyOn Wed, Mar 31, 2021 at 3:32 PM Igor Rendulic <> wrote:Hi EmilySounds good.', 'We have time (pst): Tuesday April 6th, 10am-3pm or after 4pmThursday April 8th, anytime after 10amFriday April 9th 10am-1:30pm, or after 3pmLet me know if any of those times work for you.', 'Best,IgorOn Tue, Mar 30, 2021 at 4:56 PM Emily Wages <> wrote:Hi Igor,I am glad you got the interview notice and sounds great!', 'First, please let me know some dates/times the week before you are goth free for an interview prep zoom.', 'It will take around 2 hours.', \"Usually after 2pm PST is best for me.Second, here is what you need to prep to take with you to to the interview:Your passport;Ashley's passport;Both your birth records;Marriage Certificate;Proof you are living together (shared lease or deed, mail to the shared address, bills with either or both your names);Joint bank account statements;Proof of any joint insurance (home, auto, life, health);Copies of joint credit card statements;Copy of any will or other assets listing other as beneficiary;Photos of you together since we filed;Recently filed joint tax returns;Proof of joint travel since filing;Joint sponsor documents: his latest pay stub, tax return and W-2;Copies of any divorce records;Certified copy of any criminal records relating to DUI.Finally, please kindly remit payment for remaining legal fees/costs of $2250 prior to interview.\", 'You can either use Zelle (using this email address) or can mail a check, payable to Law Office of Emily Wages, to:Emily WagesBest wishes,EmilyLaw Office of Emily Wages(510) 520-3676Address Change Information: All nonimmigrants & permanent residents are required to notify USCIS of an address change within 10 days.', 'Please go to to complete change of address notification.', 'Confidentiality Note: The information contained in this message is privileged and confidential information intended only for the use of the addressee(s) named above.', 'If the reader of this message is not the intended recipient, any dissemination, distribution, or copy of the information in this message, and/or the name of the person it is addressed to, is prohibited.', 'If you have received this message in error, please notify me by returning this email to me.', 'Before printing, please consider the environment.', '-- Very truly yours,Emily WagesLaw Office of Emily Wages(510) 520-3676Address Change Information: All nonimmigrants & permanent residents are required to notify USCIS of an address change within 10 days.', 'Please go to to complete change of address notification.', 'Confidentiality Note: The information contained in this message is privileged and confidential information intended only for the use of the addressee(s) named above.', 'If the reader of this message is not the intended recipient, any dissemination, distribution, or copy of the information in this message, and/or the name of the person it is addressed to, is prohibited.', 'If you have received this message in error, please notify me by returning this email to me.', 'Before printing, please consider the environment.', '-- Very truly yours,Emily WagesLaw Office of Emily Wages57 Post Street, Suite 810San Francisco, CA 94104(510) 520-3676Address Change Information: All nonimmigrants & permanent residents are required to notify USCIS of an address change within 10 days.', 'Please go to to complete change of address notification.', 'Confidentiality Note: The information contained in this message is privileged and confidential information intended only for the use of the addressee(s) named above.', 'If the reader of this message is not the intended recipient, any dissemination, distribution, or copy of the information in this message, and/or the name of the person it is addressed to, is prohibited.', 'If you have received this message in error, please notify me by returning this email to me.', 'Before printing, please consider the environment.']\n",
      "Score: 0.8401063084602356, Subject: Igor, your personalized mortgage application is here, id: <1b31f7a1-bb17-4103-b091-d823c5cc209e@las1s04mta1085.xt.local>, sentences: ['Bank of America Use this customized link to access your personal mortgage application and get started on your new home loan.', \"Igor, I'm here to help with your home loan Get started online with this link to your personal mortgage application.\", \"This link will take you directly to Bank of America's Digital Mortgage Experience, our easy-to-use online application that gives you more control over the mortgage process.\", \"You'll be able to choose loan options, lock your rate, upload documents and more.\", \"Remember, I'm here to help.\", 'Whether you get started online or prefer to connect directly, feel free to get in touch if you have any questions or concerns during the loan process.', 'I want to be sure you have what you need to achieve your home financing goals.', 'Cheryl Davies WM Lending Officer NMLS ID: 442432 (385) 412-7971 Legal disclosures and information Credit and collateral are subject to approval.', 'Terms and conditions apply.', 'This is not a commitment to lend.', 'Programs, rates, terms and conditions are subject to change without notice.', 'Bank of America and the Bank of America logo are registered trademarks of Bank of America Corporation.', '| | This is a promotional email from Bank of America.', 'to stop receiving promotional emails about products and services from Bank of America.', 'Bank of America, PO Box 25118, Tampa, FL 33622.', 'Bank of America, N.A.', 'Member FDIC.', '2022 Bank of America Corporation.', 'All rights reserved.', 'This email was sent to: igor.amplio@gmail.com Floor NC1-028-09-02, 150 N College St., Charlotte, NC 28255 MAP3606446 | EMAIL-04-21-1391 | 5423 | 05/2021']\n",
      "Score: 0.839271068572998, Subject: Notification: Covid shot #2 at 3:35 @ Tue May 18, 2021 10:00 -\n",
      " 11:00 (MDT) (igor.amplio@gmail.com), id: <000000000000ee63dd05c29ca98f@google.com>, sentences: ['Covid shot #2 at 3:35WhenTue May 18, 2021 10:00  11:00 Mountain Time - DenverCalendarigor.amplio@gmail.comWhoigor.amplio@gmail.com - organizer Invitation from You are receiving this email at the account igor.amplio@gmail.com because you are subscribed for notifications on calendar igor.amplio@gmail.com.To stop receiving these emails, please log in to https://calendar.google.com/calendar/ and change your notification settings for this calendar.Forwarding this invitation could allow any recipient to send a response to the organizer and be added to the guest list, or invite others regardless of their own invitation status, or to modify your RSVP.', '.']\n",
      "Score: 0.839269757270813, Subject: Notification: Igor <> iCueMotion @ Thu May 27, 2021 13:00 - 13:30\n",
      " (MDT) (igor.amplio@gmail.com), id: <0000000000007eb05205c35439f0@google.com>, sentences: ['Igor <> iCueMotionWhenThu May 27, 2021 13:00  13:30 Mountain Time - DenverJoining infoJoin with Google Meet Join by phone(US) (PIN: 153588813)Calendarigor.amplio@gmail.comWhosiva@icuemotion.com - organizerigor.amplio@gmail.comberenice@icuemotion.compat@icuemotion.com Going (igor.amplio@gmail.com)?', '- - Invitation from You are receiving this email at the account igor.amplio@gmail.com because you are subscribed for notifications on calendar igor.amplio@gmail.com.To stop receiving these emails, please log in to https://calendar.google.com/calendar/ and change your notification settings for this calendar.Forwarding this invitation could allow any recipient to send a response to the organizer and be added to the guest list, or invite others regardless of their own invitation status, or to modify your RSVP.', '.']\n"
     ]
    }
   ],
   "source": [
    "result_ids = index[indices]\n",
    "for i, idx in enumerate(result_ids):\n",
    "    item = database_dict[idx.item()]\n",
    "    print(f\"Score: {scores[i]}, Subject: {item['subject']}, id: {item['message_id']}, sentences: {item['sentences']}\")"
   ]
  },
  {
   "cell_type": "code",
   "execution_count": null,
   "metadata": {},
   "outputs": [],
   "source": []
  }
 ],
 "metadata": {
  "kernelspec": {
   "display_name": ".venv",
   "language": "python",
   "name": "python3"
  },
  "language_info": {
   "codemirror_mode": {
    "name": "ipython",
    "version": 3
   },
   "file_extension": ".py",
   "mimetype": "text/x-python",
   "name": "python",
   "nbconvert_exporter": "python",
   "pygments_lexer": "ipython3",
   "version": "3.10.8"
  }
 },
 "nbformat": 4,
 "nbformat_minor": 2
}
