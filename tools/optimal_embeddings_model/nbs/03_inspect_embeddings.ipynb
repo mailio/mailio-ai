{
 "cells": [
  {
   "cell_type": "code",
   "execution_count": 3,
   "metadata": {},
   "outputs": [
    {
     "name": "stderr",
     "output_type": "stream",
     "text": [
      "/Users/igor/workspace/mailio-ai/tools/optimal_embeddings_model/.venv/lib/python3.10/site-packages/tqdm/auto.py:21: TqdmWarning: IProgress not found. Please update jupyter and ipywidgets. See https://ipywidgets.readthedocs.io/en/stable/user_install.html\n",
      "  from .autonotebook import tqdm as notebook_tqdm\n"
     ]
    }
   ],
   "source": [
    "import numpy as np\n",
    "import torch\n",
    "from transformers import PreTrainedModel, PreTrainedTokenizer, BatchEncoding\n",
    "from transformers import AutoTokenizer, AutoModel\n",
    "import sys\n",
    "import os\n",
    "import json\n",
    "import torch.nn.functional as F\n",
    "from dotenv import load_dotenv\n",
    "\n",
    "load_dotenv()\n",
    "\n",
    "sys.path.append(\"..\")  # Adds the parent directory to sys path\n",
    "\n",
    "from mailio_ai_libs.create_embeddings import Embedder"
   ]
  },
  {
   "cell_type": "code",
   "execution_count": 4,
   "metadata": {},
   "outputs": [],
   "source": [
    "# model_id = os.getenv(\"MODEL_ID\")\n",
    "# print(model_id)\n",
    "model_id = \"intfloat/e5-large-v2\""
   ]
  },
  {
   "cell_type": "code",
   "execution_count": 5,
   "metadata": {},
   "outputs": [],
   "source": [
    "base_data_dir = \"../data\"\n",
    "subfolder = model_id.split(\"/\")[-1]\n",
    "data_dir = f\"{base_data_dir}/{subfolder}\"\n",
    "embeddings_path = f\"{data_dir}/embeddings.npy\"\n",
    "index_path = f\"{data_dir}/embeddings_index.npy\"\n",
    "jsonl_files = [f for f in os.listdir(base_data_dir) if f.endswith(\".jsonl\") and os.path.isfile(os.path.join(base_data_dir, f))]"
   ]
  },
  {
   "cell_type": "code",
   "execution_count": 6,
   "metadata": {},
   "outputs": [],
   "source": [
    "# convert database to dictionary by id\n",
    "database_dict = {}\n",
    "for file in jsonl_files:\n",
    "    file_path = os.path.join(base_data_dir, file)\n",
    "    with open(file_path, \"r\") as f:\n",
    "        lines = f.read()\n",
    "    lines = lines.split(\"\\n\")\n",
    "    for line in lines:\n",
    "        if line == \"\":\n",
    "            continue\n",
    "        j = json.loads(line)\n",
    "        if \"message_id\" in j:\n",
    "            database_dict[j[\"message_id\"]] = j"
   ]
  },
  {
   "cell_type": "code",
   "execution_count": 7,
   "metadata": {},
   "outputs": [
    {
     "data": {
      "text/plain": [
       "12432"
      ]
     },
     "execution_count": 7,
     "metadata": {},
     "output_type": "execute_result"
    }
   ],
   "source": [
    "len(database_dict)"
   ]
  },
  {
   "cell_type": "code",
   "execution_count": 8,
   "metadata": {},
   "outputs": [],
   "source": [
    "embeddings = np.load(embeddings_path)\n",
    "index = np.load(index_path)"
   ]
  },
  {
   "cell_type": "code",
   "execution_count": 9,
   "metadata": {},
   "outputs": [
    {
     "name": "stdout",
     "output_type": "stream",
     "text": [
      "(16328, 1024) (16328,)\n"
     ]
    }
   ],
   "source": [
    "# sanity check the shapes\n",
    "print(embeddings.shape, index.shape)\n",
    "assert embeddings.shape[0] == index.shape[0]"
   ]
  },
  {
   "cell_type": "code",
   "execution_count": 10,
   "metadata": {},
   "outputs": [],
   "source": [
    "embeddings = torch.from_numpy(embeddings)"
   ]
  },
  {
   "cell_type": "code",
   "execution_count": 11,
   "metadata": {},
   "outputs": [
    {
     "data": {
      "text/plain": [
       "torch.Size([16328, 1024])"
      ]
     },
     "execution_count": 11,
     "metadata": {},
     "output_type": "execute_result"
    }
   ],
   "source": [
    "embeddings.shape"
   ]
  },
  {
   "cell_type": "code",
   "execution_count": 12,
   "metadata": {},
   "outputs": [],
   "source": [
    "# embeddings = F.normalize(embeddings, p=2, dim=1)"
   ]
  },
  {
   "cell_type": "code",
   "execution_count": 13,
   "metadata": {},
   "outputs": [],
   "source": [
    "# quantize the embeddings\n",
    "# embeddings = embeddings.type(torch.HalfTensor)"
   ]
  },
  {
   "cell_type": "code",
   "execution_count": 14,
   "metadata": {},
   "outputs": [],
   "source": [
    "tokenizer = AutoTokenizer.from_pretrained(model_id)\n",
    "model = AutoModel.from_pretrained(model_id)\n",
    "\n",
    "embedder = Embedder(model, tokenizer)"
   ]
  },
  {
   "cell_type": "code",
   "execution_count": 15,
   "metadata": {},
   "outputs": [],
   "source": [
    "def search_embeddings(embedder, query, embeddings, index, limit=10):\n",
    "    q = torch.from_numpy(embedder.embed([query]))\n",
    "    print(q)\n",
    "    # q = F.normalize(q, p=2, dim=1)\n",
    "    similarity = F.cosine_similarity(q, embeddings, dim=1)\n",
    "    values, indices = similarity.topk(limit, dim=0)\n",
    "    return indices.detach().cpu().numpy().ravel(), values.detach().cpu().numpy().ravel()"
   ]
  },
  {
   "cell_type": "code",
   "execution_count": 24,
   "metadata": {},
   "outputs": [
    {
     "name": "stdout",
     "output_type": "stream",
     "text": [
      "tensor([[ 0.0047, -0.9481,  0.5189,  ..., -0.8574,  1.0762,  0.5967]])\n"
     ]
    }
   ],
   "source": [
    "query = \"example\"\n",
    "indices, scores = search_embeddings(embedder, query, embeddings, index, limit=20)"
   ]
  },
  {
   "cell_type": "code",
   "execution_count": 17,
   "metadata": {},
   "outputs": [
    {
     "data": {
      "text/plain": [
       "(array([13462, 13529, 13470,   937,  3653,   687,  2441,  3413,  2520,\n",
       "         3410,  2658,  2256,  8785,  3830, 11648, 12864,  9964,   744,\n",
       "          897,  1121]),\n",
       " array([0.91508114, 0.9070264 , 0.87404835, 0.8667275 , 0.779546  ,\n",
       "        0.7770086 , 0.77420497, 0.76401925, 0.76401925, 0.76401925,\n",
       "        0.76401925, 0.7614256 , 0.7606676 , 0.7586557 , 0.75803566,\n",
       "        0.7578621 , 0.7568965 , 0.7547649 , 0.75395954, 0.7536761 ],\n",
       "       dtype=float32))"
      ]
     },
     "execution_count": 17,
     "metadata": {},
     "output_type": "execute_result"
    }
   ],
   "source": [
    "indices, scores"
   ]
  },
  {
   "cell_type": "code",
   "execution_count": 25,
   "metadata": {},
   "outputs": [
    {
     "data": {
      "text/plain": [
       "tensor([ 0.0147, -0.5494,  0.5068,  ..., -0.9313,  0.9302,  0.3688])"
      ]
     },
     "execution_count": 25,
     "metadata": {},
     "output_type": "execute_result"
    }
   ],
   "source": [
    "embeddings[indices[0]]"
   ]
  },
  {
   "cell_type": "code",
   "execution_count": null,
   "metadata": {},
   "outputs": [],
   "source": [
    "result_ids = index[indices]\n",
    "for i, idx in enumerate(result_ids):\n",
    "    item = database_dict[idx.item()]\n",
    "    print(f\"Score: {scores[i]}, Subject: {item['subject']}, id: {item['message_id']}, sentences: {item['sentences']}\")"
   ]
  },
  {
   "cell_type": "code",
   "execution_count": null,
   "metadata": {},
   "outputs": [],
   "source": []
  }
 ],
 "metadata": {
  "kernelspec": {
   "display_name": ".venv",
   "language": "python",
   "name": "python3"
  },
  "language_info": {
   "codemirror_mode": {
    "name": "ipython",
    "version": 3
   },
   "file_extension": ".py",
   "mimetype": "text/x-python",
   "name": "python",
   "nbconvert_exporter": "python",
   "pygments_lexer": "ipython3",
   "version": "3.9.6"
  }
 },
 "nbformat": 4,
 "nbformat_minor": 2
}
