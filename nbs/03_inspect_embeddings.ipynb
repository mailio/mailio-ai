{
 "cells": [
  {
   "cell_type": "code",
   "execution_count": 159,
   "metadata": {},
   "outputs": [],
   "source": [
    "import numpy as np\n",
    "import torch\n",
    "from transformers import PreTrainedModel, PreTrainedTokenizer, BatchEncoding\n",
    "from transformers import AutoTokenizer, AutoModel\n",
    "import sys\n",
    "import os\n",
    "import json\n",
    "import torch.nn.functional as F\n",
    "\n",
    "sys.path.append(\"..\")  # Adds the parent directory to sys path\n",
    "\n",
    "from mailio_ai_libs.create_embeddings import Embedder"
   ]
  },
  {
   "cell_type": "code",
   "execution_count": 160,
   "metadata": {},
   "outputs": [],
   "source": [
    "base_data_dir = \"../data\"\n",
    "data_dir = f\"{base_data_dir}/embeddings_distilbert_base_uncased_mean_pooling\"\n",
    "embeddings_path = f\"{data_dir}/embeddings.npy\"\n",
    "index_path = f\"{data_dir}/embeddings_index.npy\"\n",
    "jsonl_files = [f for f in os.listdir(base_data_dir) if f.endswith(\".jsonl\") and os.path.isfile(os.path.join(base_data_dir, f))]"
   ]
  },
  {
   "cell_type": "code",
   "execution_count": 161,
   "metadata": {},
   "outputs": [],
   "source": [
    "# convert database to dictionary by id\n",
    "database_dict = {}\n",
    "for file in jsonl_files:\n",
    "    file_path = os.path.join(base_data_dir, file)\n",
    "    with open(file_path, \"r\") as f:\n",
    "        lines = f.read()\n",
    "    lines = lines.split(\"\\n\")\n",
    "    for line in lines:\n",
    "        if line == \"\":\n",
    "            continue\n",
    "        j = json.loads(line)\n",
    "        if \"message_id\" in j:\n",
    "            database_dict[j[\"message_id\"]] = j"
   ]
  },
  {
   "cell_type": "code",
   "execution_count": 162,
   "metadata": {},
   "outputs": [
    {
     "data": {
      "text/plain": [
       "12432"
      ]
     },
     "execution_count": 162,
     "metadata": {},
     "output_type": "execute_result"
    }
   ],
   "source": [
    "len(database_dict)"
   ]
  },
  {
   "cell_type": "code",
   "execution_count": 163,
   "metadata": {},
   "outputs": [],
   "source": [
    "embeddings = np.load(embeddings_path)\n",
    "index = np.load(index_path)"
   ]
  },
  {
   "cell_type": "code",
   "execution_count": 164,
   "metadata": {},
   "outputs": [
    {
     "name": "stdout",
     "output_type": "stream",
     "text": [
      "(16328, 384) (16328,)\n"
     ]
    }
   ],
   "source": [
    "# sanity check the shapes\n",
    "print(embeddings.shape, index.shape)\n",
    "assert embeddings.shape[0] == index.shape[0]"
   ]
  },
  {
   "cell_type": "code",
   "execution_count": 165,
   "metadata": {},
   "outputs": [],
   "source": [
    "embeddings = torch.from_numpy(embeddings)"
   ]
  },
  {
   "cell_type": "code",
   "execution_count": 166,
   "metadata": {},
   "outputs": [
    {
     "data": {
      "text/plain": [
       "torch.Size([16328, 384])"
      ]
     },
     "execution_count": 166,
     "metadata": {},
     "output_type": "execute_result"
    }
   ],
   "source": [
    "embeddings.shape"
   ]
  },
  {
   "cell_type": "code",
   "execution_count": 167,
   "metadata": {},
   "outputs": [],
   "source": [
    "embeddings = F.normalize(embeddings, p=2, dim=1)"
   ]
  },
  {
   "cell_type": "code",
   "execution_count": 168,
   "metadata": {},
   "outputs": [],
   "source": [
    "# quantize the embeddings\n",
    "# embeddings = embeddings.type(torch.HalfTensor)"
   ]
  },
  {
   "cell_type": "code",
   "execution_count": 169,
   "metadata": {},
   "outputs": [],
   "source": [
    "tokenizer = AutoTokenizer.from_pretrained('sentence-transformers/all-MiniLM-L6-v2')\n",
    "model = AutoModel.from_pretrained('sentence-transformers/all-MiniLM-L6-v2')\n",
    "\n",
    "embedder = Embedder(model, tokenizer)"
   ]
  },
  {
   "cell_type": "code",
   "execution_count": 170,
   "metadata": {},
   "outputs": [],
   "source": [
    "def search_embeddings(embedder, query, embeddings, index, limit=10):\n",
    "    q = torch.from_numpy(embedder.embed([query]))\n",
    "    q = F.normalize(q, p=2, dim=1)\n",
    "    similarity = F.cosine_similarity(q, embeddings, dim=1)\n",
    "    values, indices = similarity.topk(limit, dim=0)\n",
    "    return indices.detach().cpu().numpy().ravel(), values.detach().cpu().numpy().ravel()"
   ]
  },
  {
   "cell_type": "code",
   "execution_count": 201,
   "metadata": {},
   "outputs": [],
   "source": [
    "query = \"Zoom invitation on April 21, 2021\"\n",
    "indices, scores = search_embeddings(embedder, query, embeddings, index, limit=20)"
   ]
  },
  {
   "cell_type": "code",
   "execution_count": 202,
   "metadata": {},
   "outputs": [
    {
     "data": {
      "text/plain": [
       "(array([3889,   55, 2164, 2176,  910,   53, 2244, 2227,  950, 2050,  906,\n",
       "        2084,   46, 4297, 1786, 2271,  914, 4296, 5640, 2232]),\n",
       " array([0.6415538 , 0.5701928 , 0.5663995 , 0.5405959 , 0.5203955 ,\n",
       "        0.50475836, 0.5047425 , 0.4949383 , 0.49443275, 0.49313182,\n",
       "        0.49093646, 0.49060303, 0.4889248 , 0.4875074 , 0.48664755,\n",
       "        0.4839882 , 0.48347563, 0.48092467, 0.47975484, 0.4748347 ],\n",
       "       dtype=float32))"
      ]
     },
     "execution_count": 202,
     "metadata": {},
     "output_type": "execute_result"
    }
   ],
   "source": [
    "indices, scores"
   ]
  },
  {
   "cell_type": "code",
   "execution_count": 203,
   "metadata": {},
   "outputs": [
    {
     "name": "stdout",
     "output_type": "stream",
     "text": [
      "Score: 0.6415538191795349, Subject: None, id: <CAGbyn1QFEkTU3a0XH9CpR2Bd78CQeQ-ZSoOFir8ZecRbRwA-Sg@mail.gmail.com>, sentences: ['Ashley Smith is inviting you to a scheduled Zoom meeting.Topic: Exposing Married People During Shelter-in-Place /Group Therapy on Zoom lolTime: Apr 19, 2020 07:00 PM Pacific Time (US and Canada)Join Zoom MeetingMeeting ID: 986 8883 8642']\n",
      "Score: 0.570192813873291, Subject: Catchup, id: <CALzVFDRDiZ=MXkfTugxcnaxAZv_0-nxSJiMpsej52=YD+3Aw5w@mail.gmail.com>, sentences: [\"Hi Igor,It's been a long time.\", 'I hope you are doing well!', 'I was wondering if you would be interested in catching up sometime over zoom.Best,Ryan']\n",
      "Score: 0.5663995146751404, Subject: Updated invitation: Igor <> Hakimo @ Fri Apr 30, 2021 9am - 10am\n",
      " (PDT) (igor@mail.io), id: <000000000000d0c0df05c11fa3cc@google.com>, sentences: ['This event has been changed.Igor <> HakimoWhenChanged: Fri Apr 30, 2021 9am  10am Pacific Time - Los AngelesCalendarigor@mail.ioWhosagar@hakimo.ai - organizeranuj@hakimo.aiigor@mail.io Sagar Honnungar is inviting you to a scheduled Zoom meeting.Join Zoom MeetingMeeting ID: 913 6424 4868Passcode: 135780One tap mobile+16699006833,,91364244868#,,,,*135780# US (San Jose)+12532158782,,91364244868#,,,,*135780# US (Tacoma)Dial by your location +1 669 900 6833 US (San Jose) +1 253 215 8782 US (Tacoma) +1 346 248 7799 US (Houston) +1 929 205 6099 US (New York) +1 301 715 8592 US (Washington DC) +1 312 626 6799 US (Chicago)Meeting ID: 913 6424 4868Passcode: 135780Find your local number: Going (igor@mail.io)?', '- - Invitation from You are receiving this courtesy email at the account igor@mail.io because you are an attendee of this event.To stop receiving future updates for this event, decline this event.', 'Alternatively you can sign up for a Google account at https://calendar.google.com/calendar/ and control your notification settings for your entire calendar.Forwarding this invitation could allow any recipient to send a response to the organizer and be added to the guest list, or invite others regardless of their own invitation status, or to modify your RSVP.', '.']\n",
      "Score: 0.5405958890914917, Subject: Invitation: Igor <> Hakimo @ Fri Apr 30, 2021 9:30am - 10:30am\n",
      " (PDT) (igor@mail.io), id: <000000000000ac7aef05c0f75d7a@google.com>, sentences: ['You have been invited to the following event.Igor <> HakimoWhenFri Apr 30, 2021 9:30am  10:30am Pacific Time - Los AngelesCalendarigor@mail.ioWhosagar@hakimo.ai - organizeranuj@hakimo.aiigor@mail.io Sagar Honnungar is inviting you to a scheduled Zoom meeting.Join Zoom MeetingMeeting ID: 913 6424 4868Passcode: 135780One tap mobile+16699006833,,91364244868#,,,,*135780# US (San Jose)+12532158782,,91364244868#,,,,*135780# US (Tacoma)Dial by your location +1 669 900 6833 US (San Jose) +1 253 215 8782 US (Tacoma) +1 346 248 7799 US (Houston) +1 929 205 6099 US (New York) +1 301 715 8592 US (Washington DC) +1 312 626 6799 US (Chicago)Meeting ID: 913 6424 4868Passcode: 135780Find your local number: Going (igor@mail.io)?', '- - Invitation from You are receiving this courtesy email at the account igor@mail.io because you are an attendee of this event.To stop receiving future updates for this event, decline this event.', 'Alternatively you can sign up for a Google account at https://calendar.google.com/calendar/ and control your notification settings for your entire calendar.Forwarding this invitation could allow any recipient to send a response to the organizer and be added to the guest list, or invite others regardless of their own invitation status, or to modify your RSVP.', '.']\n",
      "Score: 0.5203955173492432, Subject: Re: Zhamak <> Igor, id: <CAFoXy1FbpYQDa772CcT2bpconVvYhOTM4tR+iqwM1JBCzvfSgA@mail.gmail.com>, sentences: ['Hi Zhamak,Here are a few options that work for Zhamak:Mon.', '01/09 at 4:00 - 4:30 PM PT Thu.', '01/12 at 4:00 - 4:30 PM PTWould any of these work for you?', \"If nothing aligns, I'd be happy to look into the following week for more options.Thank you, and Happy Holidays!Best,JudyOn Sat, Dec 24, 2022 at 11:45 AM Zhamak Dehghani <> wrote:Super!Judy finds us time.- zhamakOn Dec 23, 2022, at 6:10 PM, Igor Rendulic <> wrote:HiYes.\", 'Id love to chat.', 'I can do pretty much anytime.', 'Whatever time works best for you I can make it work for me.', \"Best,Igor On Fri, Dec 23, 2022 at 5:50 PM Zhamak Dehghani <> wrote:Hi IgorIm still hiring the founding team and interested to talk if you are open to a startup opportunity.- zhamakOn Dec 23, 2022, at 1:04 PM, Igor Rendulic <> wrote:HiI'm sorry about the meeting!\", \"I check my email once a day lately so I've missed the update.Hopefully things are going well on your side.\", \"If you're still interested in having a chat, please let me know.Happy holidays Best,IgorOn Thu, Dec 22, 2022 at 5:04 PM <> wrote: Zhamak <> Igor Hi Igor,I'm online.\", 'Wondering if you are joining.- zhamakMeeting linkZhamak <> IgorThursday Dec 22, 2022  4pm  4:30pm (Pacific Time - Los Angeles)The calendar invite is still tentative.', 'We will update you if we are still actively looking for candidates.', 'Thank you!Guests - organizer']\n",
      "Score: 0.504758358001709, Subject: Re: Catchup, id: <CALzVFDSr57Nzk_v4C2okKoeZ6BnpyNK8KgZNmLUqFtgJBYV6LA@mail.gmail.com>, sentences: [\"Haha if you are free im not doing anything now!But im also available most of tomorrow and the weekend.On Thu, Oct 17, 2024 at 4:42 PM Igor Rendulic <> wrote:Hey Ryan It definitely has been a long time :) Sure, I'd be happy to chat.\", \"When were you thinking?On Thu, Oct 17, 2024 at 1:41 PM Ryan Yee <> wrote:Hi Igor,It's been a long time.\", 'I hope you are doing well!', 'I was wondering if you would be interested in catching up sometime over zoom.Best,Ryan']\n",
      "Score: 0.5047425031661987, Subject: Invitation: Igor Rendulic and Sam Joseph @ Wed Apr 21, 2021 2pm -\n",
      " 2:30pm (PDT) (igor@mail.io), id: <00000000000021e80c05c05a3960@google.com>, sentences: ['You have been invited to the following event.Igor Rendulic and Sam JosephWhenWed Apr 21, 2021 2pm  2:30pm Pacific Time - Los AngelesWherehttps://zoom.us/j/98492184834?pwd=VXZycnc0cGJ1bGRRNmdCWWgxeTlVZz09 ()Calendarigor@mail.ioWhosam@hakimo.ai - organizerigor@mail.io Event Name: 30 Minute MeetingLocation: This is a Zoom web conference.You can join this meeting from your computer, tablet, or smartphone.Password: 858442You can also dial in using your phone.US: +1 301 715 8592, +1 312 626 6799, +1 929 205 6099, +1 253 215 8782, +1 346 248 7799, +1 669 900 6833Meeting ID: 984-921-84834Find your local number: Please share anything that will help prepare for our meeting.', ': Chat with Igor from Chrysalis cloudNeed to make changes to this event?Cancel: Reschedule: Powered by Calendly.comGoing (igor@mail.io)?', '- - Invitation from You are receiving this courtesy email at the account igor@mail.io because you are an attendee of this event.To stop receiving future updates for this event, decline this event.', 'Alternatively you can sign up for a Google account at https://calendar.google.com/calendar/ and control your notification settings for your entire calendar.Forwarding this invitation could allow any recipient to send a response to the organizer and be added to the guest list, or invite others regardless of their own invitation status, or to modify your RSVP.', '.']\n",
      "Score: 0.49493831396102905, Subject: Reminder: 30 Minute Meeting with Sam Joseph at 03:00pm (Mountain\n",
      " Time - US & Canada) on Wednesday, April 21, 2021, id: <moYO2ybpT2yEcZ96TfbQ0A@ismtpd0160p1iad2.sendgrid.net>, sentences: ['Calendly Hi Igor Rendulic,This is a friendly reminder that your 30 Minute Meeting with Sam Joseph is at 03:00pm (Mountain Time - US & Canada) on Wednesday, April 21, 2021.Location: This is a Zoom web conference.', 'You can join this meeting from your computer, tablet, or smartphone.', 'Password: 858442 You can also dial in using your phone.', 'US: +1 301 715 8592, +1 312 626 6799, +1 929 205 6099, +1 253 215 8782, +1 346 248 7799, +1 669 900 6833Meeting ID: 984-921-84834 Find your local number: Your Answers: Please share anything that will help prepare for our meeting.', 'Chat with Igor from Chrysalis cloud Make changes to this event:']\n",
      "Score: 0.4944327473640442, Subject: Invitation: [Tentative] Zhamak <> Igor @ Thu Dec 22, 2022 17:00 -\n",
      " 17:30 (MST) (igor.amplio@gmail.com), id: <00000000000058ebd905ee052a48@google.com>, sentences: ['[Tentative] Zhamak <> IgorJoin with Google Meet  The calendar invite is still tentative.', 'We will update you if we are still actively looking for candidates.', 'Thank you!', 'Meeting linkThe calendar invite is still tentative.', 'We will update you if we are still actively looking for candidates.', 'Thank you!WhenThursday Dec 22, 2022  17:00  17:30 (Mountain Time - Denver)Guests - organizerReply for Invitation from You are receiving this email because you are subscribed to calendar notifications.', 'To stop receiving these emails, go to , select this calendar, and change \"Other notifications\".Forwarding this invitation could allow any recipient to send a response to the organizer, be added to the guest list, invite others regardless of their own invitation status, or modify your RSVP.']\n",
      "Score: 0.4931318163871765, Subject: Accepted: CueMate @ Thu May 20, 2021 14:30 - 15:30 (MDT)\n",
      " (igor.amplio@gmail.com), id: <00000000000033bf5f05c29dab71@google.com>, sentences: ['pmurphyjam@gmail.com has accepted this invitation.CueMateWhenThu May 20, 2021 14:30  15:30 Mountain Time - DenverJoining infoJoin with Google Meet Calendarigor.amplio@gmail.comWhoigor.amplio@gmail.com - organizerpmurphyjam@gmail.comOverview of project CueMateInvitation from You are receiving this email at the account igor.amplio@gmail.com because you are subscribed for invitation replies on calendar igor.amplio@gmail.com.To stop receiving these emails, please log in to https://calendar.google.com/calendar/ and change your notification settings for this calendar.Forwarding this invitation could allow any recipient to send a response to the organizer and be added to the guest list, or invite others regardless of their own invitation status, or to modify your RSVP.', '.']\n",
      "Score: 0.4909364581108093, Subject: Invitation: Zhamak <> Igor @ Mon Jan 9, 2023 17:00 - 17:30 (MST)\n",
      " (igor.amplio@gmail.com), id: <calendar-09d8ba71-856d-42f2-98e2-514e29fcd678@google.com>, sentences: ['Zhamak <> IgorJoin Zoom Meetinghttps://us06web.zoom.us/j/3814099300?pwd=M1dqeElFVmdXMlBPb2tkV2hlU3FNZz09Meeting ID: 381 409 9300Passcode: 201244One tap mobile+16694449171,,3814099300#,,,,*201244# US+16699006833,,38 Join Zoom MeetingMeeting ID: 381 409 9300Passcode: 201244One tap mobile+16694449171,,3814099300#,,,,*201244# US+16699006833,,3814099300#,,,,*201244# US (San Jose)Dial by your location +1 669 444 9171 US +1 669 900 6833 US (San Jose) +1 253 205 0468 US +1 253 215 8782 US (TacoWhenMonday Jan 9, 2023  17:00  17:30 (Mountain Time - Denver)Locationhttps://us06web.zoom.us/j/3814099300?pwd=M1dqeElFVmdXMlBPb2tkV2hlU3FNZz09Guests - organizerReply for Invitation from You are receiving this email because you are subscribed to calendar notifications.', 'To stop receiving these emails, go to , select this calendar, and change \"Other notifications\".Forwarding this invitation could allow any recipient to send a response to the organizer, be added to the guest list, invite others regardless of their own invitation status, or modify your RSVP.']\n",
      "Score: 0.4906030297279358, Subject: Invitation: RFE Discussion @ Tue May 18, 2021 12:00 - 13:00 (MDT)\n",
      " (igor.amplio@gmail.com), id: <000000000000591cc305c241d3cd@google.com>, sentences: ['You have been invited to the following event.RFE DiscussionWhenTue May 18, 2021 12:00  13:00 Mountain Time - DenverWherehttps://zoom.us/j/99758719126?pwd=UTVMVWh0YmYzSzNTUDF6NnVXemROQT09 ()Calendarigor.amplio@gmail.comWhoEmily Wages - organizerigor.amplio@gmail.com Emily Wages is inviting you to a scheduled Zoom meeting.Join Zoom MeetingMeeting ID: 997 5871 9126Passcode: 021053One tap mobile+16699006833,,99758719126#,,,,*021053# US (San Jose)+12532158782,,99758719126#,,,,*021053# US (Tacoma)Dial by your location +1 669 900 6833 US (San Jose) +1 253 215 8782 US (Tacoma) +1 346 248 7799 US (Houston) +1 929 205 6099 US (New York) +1 301 715 8592 US (Washington DC) +1 312 626 6799 US (Chicago)Meeting ID: 997 5871 9126Passcode: 021053Find your local number: Going (igor.amplio@gmail.com)?', '- - Invitation from You are receiving this email at the account igor.amplio@gmail.com because you are subscribed for invitations on calendar igor.amplio@gmail.com.To stop receiving these emails, please log in to https://calendar.google.com/calendar/ and change your notification settings for this calendar.Forwarding this invitation could allow any recipient to send a response to the organizer and be added to the guest list, or invite others regardless of their own invitation status, or to modify your RSVP.', '.']\n",
      "Score: 0.4889248013496399, Subject: Updated invitation: Igor - Ryan Catchup @ Fri Oct 18, 2024 16:00 -\n",
      " 16:30 (MDT) (Igor Rendulic), id: <calendar-98f6cbcb-d8c6-4bda-892c-3e7ce86382ec@google.com>, sentences: ['Igor - Ryan CatchupYou have been invited to attend an event named Igor - Ryan Catchup on Friday Oct 18, 2024  16:00  16:30 (Mountain Time - Denver).', 'This event has been updatedChanged: time ID: 88180943876passcode: 683288Join by phone(US) passcode: 683288Joining notesMeeting host: Join Zoom Meeting: WhenCHANGEDFriday Oct 18, 2024  16:00  16:30 (Mountain Time - Denver)Old: Friday Oct 18, 2024  15:00  15:30 (Mountain Time - Denver)GuestsReply for Invitation from You are receiving this email because you are subscribed to calendar notifications.', 'To stop receiving these emails, go to , select this calendar, and change \"Other notifications\".Forwarding this invitation could allow any recipient to send a response to the organizer, be added to the guest list, invite others regardless of their own invitation status, or modify your RSVP.']\n",
      "Score: 0.4875074028968811, Subject: Notification: Igor - Ryan Catchup @ Fri Oct 18, 2024 15:00 - 15:30\n",
      " (MDT) (Igor Rendulic), id: <calendar-81f50cd8-d16b-447a-88c7-bbec4b2d94ef@google.com>, sentences: ['Igor - Ryan CatchupYou have been invited to attend an event named Igor - Ryan Catchup on Friday Oct 18, 2024  15:00  15:30 (Mountain Time - Denver).', 'You have an upcoming event ID: 88180943876passcode: 683288Join by phone(US) passcode: 683288Joining notesMeeting host: Join Zoom Meeting: Igor - Ryan CatchupFriday Oct 18, 2024  15:00  15:30 (Mountain Time - Denver)GuestsInvitation from You are receiving this email because you are subscribed to calendar notifications.', 'To stop receiving these emails, go to , select this calendar, and change \"Other notifications\".Forwarding this invitation could allow any recipient to send a response to the organizer, be added to the guest list, invite others regardless of their own invitation status, or modify your RSVP.']\n",
      "Score: 0.4866475462913513, Subject: Re: Backend, id: <CALDRnvjY4pR2K1nMJ8gx9tcaUAGNeaFB1kP7rJbmyVD=HF5tyQ@mail.gmail.com>, sentences: ['i would need to do later.', '12pmmaybe?', 'On Wed, Jun 23, 2021 at 21:17 Tom Xu <> wrote:10:30 tomorrow works for me.', '-TomOn Wed, Jun 23, 2021 at 11:42 AM Bojan Bostjancic <> wrote:Would Thursday 10.30am PT work for you guys for a quick call regarding our backend plans in the next 12 months ?', '30 minutes would be fine, just touching at a high level and understanding the time-line as Igor plans to be away in August.If yes I will send a Zoom invite.BB-- Bojan Bernard BostjancicAzumio Inc., CEOmobile: +1 408 406 7151 -- Tom XuChief Product Officer -- Peter Kuhar | Azumio Inc. | CTO | +1 (408) 966 3070']\n",
      "Score: 0.4839881956577301, Subject: Invitation: Igor/Izhar - 7Data @ Wed Apr 21, 2021 2pm - 3pm (EDT)\n",
      " (igor@mail.io), id: <0000000000000310af05c00dc0cc@google.com>, sentences: [\"You have been invited to the following event.Igor/Izhar - 7DataWhenWed Apr 21, 2021 2pm  3pm Eastern Time - New YorkWherehttps://zoom.us/j/3388930494?pwd=R1U4ejc2dWUwMzFuUUsxUjA0MVBwdz09 ()Calendarigor@mail.ioWhoiz@iz42.com - organizerigor@chryscloud.comdvir.koren1@gmail.comigor@mail.io Izhar Sharon is inviting you to a scheduled Zoom meeting.Topic: Izhar Sharon's Personal Meeting RoomJoin Zoom MeetingMeeting ID: 338 893 0494Passcode: sunday----------------------------Hi IzharGreat to meet you too.\", 'Yeah.', \"Let's meet next week.\", 'How does Wednesday the 21th at 11am PST sound for you?Best,IgorOn Tue, Apr 13, 2021 at 9:23 AM Izhar Sharon wrote:Thank you, Ajay (bcced).Igor,Great to meet you.I am working on a data distribution network venture that should help edge applications share and distribute data to the right place at the right time - addressing data gravity, management and latency challengesOur background is data protection and mobility, and networking.Appreciate if we could chat to share and learn and check for synergy.', 'Be good to connect, regardless.Please let me know if you have availability in the next week or so.Best regards,izharIzhar Sharonemail: mobile: 508-494-8338On Apr 13, 2021, at 11:10 AM, Ajay Ramachandran wrote:Hi Igor and Izhar -Please meet.', 'I look forward to hearing how the discussion goes and if theres opportunity for you to collaborate.AjayGoing (igor@mail.io)?', '- - Invitation from You are receiving this courtesy email at the account igor@mail.io because you are an attendee of this event.To stop receiving future updates for this event, decline this event.', 'Alternatively you can sign up for a Google account at https://calendar.google.com/calendar/ and control your notification settings for your entire calendar.Forwarding this invitation could allow any recipient to send a response to the organizer and be added to the guest list, or invite others regardless of their own invitation status, or to modify your RSVP.', '.']\n",
      "Score: 0.48347562551498413, Subject: Updated invitation: Zhamak <> Igor @ Thu Dec 22, 2022 17:00 -\n",
      " 17:30 (MST) (igor.amplio@gmail.com), id: <calendar-cce208b6-39b7-4e1b-8510-990fdf13b9a4@google.com>, sentences: ['Zhamak <> IgorJoin with Google Meet  The calendar invite is still tentative.', 'We will update you if we are still actively looking for candidates.', 'Thank you!', 'This event has been updatedChanged: title Meeting linkThe calendar invite is still tentative.', 'We will update you if we are still actively looking for candidates.', 'Thank you!WhenThursday Dec 22, 2022  17:00  17:30 (Mountain Time - Denver)Guests - organizerReply for Invitation from You are receiving this email because you are subscribed to calendar notifications.', 'To stop receiving these emails, go to , select this calendar, and change \"Other notifications\".Forwarding this invitation could allow any recipient to send a response to the organizer, be added to the guest list, invite others regardless of their own invitation status, or modify your RSVP.']\n",
      "Score: 0.48092466592788696, Subject: Notification: Igor - Ryan Catchup @ Fri Oct 18, 2024 16:00 - 16:30\n",
      " (MDT) (Igor Rendulic), id: <calendar-c7616a58-1b10-462a-951f-203535cf0bff@google.com>, sentences: ['Igor - Ryan CatchupYou have been invited to attend an event named Igor - Ryan Catchup on Friday Oct 18, 2024  16:00  16:30 (Mountain Time - Denver).', 'You have an upcoming event ID: 88180943876passcode: 683288Join by phone(US) passcode: 683288Joining notesMeeting host: Join Zoom Meeting: Igor - Ryan CatchupFriday Oct 18, 2024  16:00  16:30 (Mountain Time - Denver)GuestsInvitation from You are receiving this email because you are subscribed to calendar notifications.', 'To stop receiving these emails, go to , select this calendar, and change \"Other notifications\".Forwarding this invitation could allow any recipient to send a response to the organizer, be added to the guest list, invite others regardless of their own invitation status, or modify your RSVP.']\n",
      "Score: 0.47975483536720276, Subject: Thank you for registering for deploy!, id: <US3TWnPXQOO-vpXW91y7MQ@ismtpd0128p1iad2.sendgrid.net>, sentences: ['Hey there,Thanks for registering for deploy by DigitalOcean!Check out and star your favorite sessions before the conference starts on November 16 to create a custom viewing schedule.Looking forward to seeing you there! Add to calendar / / / Cheers,The DigitalOcean Team  Bizzabo Inc. 31W 27th St, New York, NY 10001Copyright  2017 Bizzabo, All rights reserved.For any inquiry, .', 'in order to stop receiving emails from this organizer.']\n",
      "Score: 0.47483471035957336, Subject: Updated invitation: Igor/Izhar - 7Data @ Wed Apr 21, 2021 2pm -\n",
      " 3pm (EDT) (igor@mail.io), id: <00000000000083aa1705c07d0335@google.com>, sentences: ['This event has been changed.Igor/Izhar - 7DataWhenWed Apr 21, 2021 2pm  3pm Eastern Time - New YorkWhereChanged: https://us02web.zoom.us/j/85241478454?pwd=NGtxOTBDNU03b2Z5bmxWMTB2N0RlQT09 ()Calendarigor@mail.ioWhoiz@iz42.com - organizerigor@chryscloud.comdvir.koren1@gmail.comigor@mail.ioitai.rosenblatt@gmail.com Changed: Join Zoom MeetingMeeting ID: 852 4147 8454Passcode: 368672One tap mobile+97239786688,,85241478454#,,,,*368672# Israel+972553301762,,85241478454#,,,,*368672# IsraelDial by your location +972 3 978 6688 Israel +972 55 330 1762 Israel +1 312 626 6799 US (Chicago) +1 346 248 7799 US (Houston) +1 646 558 8656 US (New York) +1 669 900 9128 US (San Jose) +1 253 215 8782 US (Tacoma) +1 301 715 8592 US (Washington D.C)Meeting ID: 852 4147 8454Passcode: 368672Find your local number: ----------------------------Hi IzharGreat to meet you too.', 'Yeah.', \"Let's meet next week.\", 'How does Wednesday the 21th at 11am PST sound for you?Best,IgorOn Tue, Apr 13, 2021 at 9:23 AM Izhar Sharon wrote:Thank you, Ajay (bcced).Igor,Great to meet you.I am working on a data distribution network venture that should help edge applications share and distribute data to the right place at the right time - addressing data gravity, management and latency challengesOur background is data protection and mobility, and networking.Appreciate if we could chat to share and learn and check for synergy.', 'Be good to connect, regardless.Please let me know if you have availability in the next week or so.Best regards,izharIzhar Sharonemail: mobile: 508-494-8338On Apr 13, 2021, at 11:10 AM, Ajay Ramachandran wrote:Hi Igor and Izhar -Please meet.', 'I look forward to hearing how the discussion goes and if theres opportunity for you to collaborate.AjayGoing (igor@mail.io)?', '- - Invitation from You are receiving this courtesy email at the account igor@mail.io because you are an attendee of this event.To stop receiving future updates for this event, decline this event.', 'Alternatively you can sign up for a Google account at https://calendar.google.com/calendar/ and control your notification settings for your entire calendar.Forwarding this invitation could allow any recipient to send a response to the organizer and be added to the guest list, or invite others regardless of their own invitation status, or to modify your RSVP.', '.']\n"
     ]
    }
   ],
   "source": [
    "result_ids = index[indices]\n",
    "for i, idx in enumerate(result_ids):\n",
    "    item = database_dict[idx.item()]\n",
    "    print(f\"Score: {scores[i]}, Subject: {item['subject']}, id: {item['message_id']}, sentences: {item['sentences']}\")"
   ]
  },
  {
   "cell_type": "code",
   "execution_count": null,
   "metadata": {},
   "outputs": [],
   "source": []
  }
 ],
 "metadata": {
  "kernelspec": {
   "display_name": ".venv",
   "language": "python",
   "name": "python3"
  },
  "language_info": {
   "codemirror_mode": {
    "name": "ipython",
    "version": 3
   },
   "file_extension": ".py",
   "mimetype": "text/x-python",
   "name": "python",
   "nbconvert_exporter": "python",
   "pygments_lexer": "ipython3",
   "version": "3.10.8"
  }
 },
 "nbformat": 4,
 "nbformat_minor": 2
}
