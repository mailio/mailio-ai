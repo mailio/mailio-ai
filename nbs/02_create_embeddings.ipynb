{
 "cells": [
  {
   "cell_type": "code",
   "execution_count": 1,
   "metadata": {},
   "outputs": [],
   "source": [
    "#| default_exp create_embeddings\n",
    "\n",
    "%load_ext autoreload\n",
    "%autoreload 2"
   ]
  },
  {
   "cell_type": "code",
   "execution_count": 2,
   "metadata": {},
   "outputs": [
    {
     "name": "stderr",
     "output_type": "stream",
     "text": [
      "/Users/igor/workspace/mailio-ai/.venv/lib/python3.10/site-packages/tqdm/auto.py:21: TqdmWarning: IProgress not found. Please update jupyter and ipywidgets. See https://ipywidgets.readthedocs.io/en/stable/user_install.html\n",
      "  from .autonotebook import tqdm as notebook_tqdm\n"
     ]
    }
   ],
   "source": [
    "#| export\n",
    "\n",
    "from typing import List, Optional\n",
    "import torch\n",
    "from transformers import PreTrainedModel, PreTrainedTokenizer, BatchEncoding\n",
    "from transformers import AutoTokenizer, AutoModel\n",
    "from sentence_transformers.models import Pooling\n",
    "import sys\n",
    "import os\n",
    "import json\n",
    "import numpy as np\n",
    "import time\n",
    "from tqdm.auto import tqdm\n",
    "import torch.nn.functional as F\n",
    "\n",
    "sys.path.append(\"..\")  # Adds the parent directory to sys path\n",
    "\n",
    "from mailio_ai_libs.chunking import Chunker\n",
    "from data_types.email import Email, MessageType"
   ]
  },
  {
   "cell_type": "code",
   "execution_count": 3,
   "metadata": {},
   "outputs": [],
   "source": [
    "#| export\n",
    "\n",
    "class Embedder:\n",
    "\n",
    "    def __init__(self, model: PreTrainedModel, tokenizer: PreTrainedTokenizer):\n",
    "        self.model = model\n",
    "        self.model.eval()\n",
    "        self.tokenizer = tokenizer\n",
    "        self.max_length = self.model.config.max_position_embeddings  # Model-specific max lengt\n",
    "        self.chunker = Chunker(tokenizer, chunk_size=self.max_length-2, chunk_overlap=0)\n",
    "    \n",
    "    def embed(self, text:List[str]) -> torch.Tensor:\n",
    "        \"\"\"\n",
    "        Generate embeddings for a list of texts.\n",
    "        \n",
    "        Args:\n",
    "            text (List[str]): List of input texts.\n",
    "            chunk_size (Optional[int]): If text is too long, split it into chunks of this size. If None, no chunking is done.\n",
    "        \n",
    "        Returns:\n",
    "            numpy.ndarray: Embeddings for the input texts.\n",
    "        \"\"\"\n",
    "        \n",
    "        # Tokenize the input text\n",
    "        chunks = self.chunker.chunk(\".\".join(text))\n",
    "        embeddings = []\n",
    "\n",
    "        input_texts = []\n",
    "        for ch in chunks:\n",
    "            input_texts.append(ch)\n",
    "        \n",
    "        inputs = self.tokenizer(input_texts, padding=True, truncation=True, return_tensors=\"pt\")\n",
    "        inputs = inputs.to(self.model.device)\n",
    "\n",
    "        with torch.no_grad():\n",
    "            # Forward pass\n",
    "            outputs = self.model(**inputs)\n",
    "        \n",
    "        # Perform pooling.\n",
    "        sentence_embeddings = self.mean_pooling(outputs, inputs['attention_mask'])\n",
    "\n",
    "        # Convert to numpy array and return\n",
    "        # Move tensors in the list to CPU and convert them to numpy arrays\n",
    "        return sentence_embeddings.cpu().numpy()\n",
    "\n",
    "        #Mean Pooling - Take attention mask into account for correct averaging\n",
    "    def mean_pooling(self, model_output, attention_mask):\n",
    "        token_embeddings = model_output[0] #First element of model_output contains all token embeddings\n",
    "        input_mask_expanded = attention_mask.unsqueeze(-1).expand(token_embeddings.size()).float()\n",
    "        return torch.sum(token_embeddings * input_mask_expanded, 1) / torch.clamp(input_mask_expanded.sum(1), min=1e-9)\n",
    "\n"
   ]
  },
  {
   "cell_type": "code",
   "execution_count": 4,
   "metadata": {},
   "outputs": [],
   "source": [
    "tokenizer = AutoTokenizer.from_pretrained('sentence-transformers/all-MiniLM-L6-v2')\n",
    "model = AutoModel.from_pretrained('sentence-transformers/all-MiniLM-L6-v2')\n",
    "\n",
    "embedder = Embedder(model, tokenizer)"
   ]
  },
  {
   "cell_type": "code",
   "execution_count": 5,
   "metadata": {},
   "outputs": [
    {
     "name": "stdout",
     "output_type": "stream",
     "text": [
      "torch.Size([3, 384]) torch.Size([1, 384])\n",
      "tensor([0.6946, 0.9429, 0.2569])\n"
     ]
    }
   ],
   "source": [
    "a1 = embedder.embed([\"That is a happy dog\"])\n",
    "a2 = embedder.embed([\"That is a very happy person\"])\n",
    "a3 = embedder.embed([\"Today is a sunny day\"])\n",
    "\n",
    "embeddings = np.vstack([a1, a2, a3])\n",
    "emb = torch.from_numpy(embeddings)\n",
    "query = torch.from_numpy(embedder.embed([\"That is a happy person\"]))\n",
    "print(emb.shape, query.shape)\n",
    "\n",
    "# Calculate cosine similarity\n",
    "cosine_scores = F.cosine_similarity(query, emb, dim=1)\n",
    "print(cosine_scores)"
   ]
  },
  {
   "cell_type": "code",
   "execution_count": 6,
   "metadata": {},
   "outputs": [
    {
     "name": "stderr",
     "output_type": "stream",
     "text": [
      "Processing emails for emails_inbox.jsonl: 100%|██████████| 2694/2694 [01:12<00:00, 37.12it/s]\n",
      "Processing emails for emails_goodreads.jsonl: 100%|██████████| 4024/4024 [01:23<00:00, 47.94it/s] \n",
      "Processing emails for emails_archive.jsonl: 100%|██████████| 5714/5714 [01:39<00:00, 57.44it/s]\n"
     ]
    }
   ],
   "source": [
    "# list all jsonl files from data (inbox, archive, goodreads,...)\n",
    "data_dir = '../data'\n",
    "files = [f for f in os.listdir(data_dir) if f.endswith(\".jsonl\") and os.path.isfile(os.path.join(data_dir, f))]\n",
    "\n",
    "output_folder = \"../data/embeddings_distilbert_base_uncased_mean_pooling\"\n",
    "os.makedirs(output_folder, exist_ok=True)   \n",
    "\n",
    "emebddings_filename = \"embeddings\"\n",
    "\n",
    "all_embeddings_index = []\n",
    "all_embeddings = []\n",
    "all_embeddings_timing = []\n",
    "\n",
    "# create embeddings\n",
    "for file in files:\n",
    "\n",
    "    with open(os.path.join(data_dir, file), 'r') as f:\n",
    "        jsonl = f.read()\n",
    "    data = jsonl.split('\\n')\n",
    "    data = [json.loads(d) for d in data if d]\n",
    "    for item in tqdm(data, desc=\"Processing emails for {}\".format(file)):\n",
    "        email = Email.from_dict(item)\n",
    "        text = []\n",
    "        if email.sender_name:\n",
    "            text.append(f\"sent from {email.sender_name}\")\n",
    "        if email.subject:\n",
    "            text = [email.subject]\n",
    "        if len(email.sentences) > 0:\n",
    "            text.extend(email.sentences)\n",
    "        \n",
    "        if len(text) == 0: # nothing to embed\n",
    "            continue\n",
    "        \n",
    "        start_time = time.time()\n",
    "        embeddings = embedder.embed(text)\n",
    "        elapsed_time = time.time() - start_time\n",
    "        all_embeddings_timing.append(elapsed_time)\n",
    "\n",
    "        all_embeddings.extend(embeddings)\n",
    "        # add to index number of == len(embeddings) \n",
    "        all_embeddings_index.extend([email.message_id] * len(embeddings))\n",
    "\n",
    "        assert len(all_embeddings_index) == len(all_embeddings)"
   ]
  },
  {
   "cell_type": "code",
   "execution_count": 7,
   "metadata": {},
   "outputs": [
    {
     "data": {
      "text/plain": [
       "(16328, 16328, 12432)"
      ]
     },
     "execution_count": 7,
     "metadata": {},
     "output_type": "execute_result"
    }
   ],
   "source": [
    "len(all_embeddings), len(all_embeddings_index), len(all_embeddings_timing)"
   ]
  },
  {
   "cell_type": "code",
   "execution_count": 8,
   "metadata": {},
   "outputs": [
    {
     "name": "stdout",
     "output_type": "stream",
     "text": [
      "(16328, 384) (16328,)\n"
     ]
    }
   ],
   "source": [
    "np_emebddings = np.vstack(all_embeddings)\n",
    "embeddings_index = np.array(all_embeddings_index)\n",
    "\n",
    "print(np_emebddings.shape, embeddings_index.shape)"
   ]
  },
  {
   "cell_type": "code",
   "execution_count": 9,
   "metadata": {},
   "outputs": [],
   "source": [
    "# Save the embeddings to a file\n",
    "with open(os.path.join(output_folder, f\"{emebddings_filename}.npy\"), 'wb') as f:\n",
    "    np.save(f, np_emebddings)\n",
    "\n",
    "with open(os.path.join(output_folder, f\"{emebddings_filename}_index.npy\"), 'wb') as f:\n",
    "    np.save(f, embeddings_index)"
   ]
  },
  {
   "cell_type": "code",
   "execution_count": 10,
   "metadata": {},
   "outputs": [
    {
     "name": "stdout",
     "output_type": "stream",
     "text": [
      "\n",
      "Average embedding time: 0.0205 seconds\n"
     ]
    }
   ],
   "source": [
    "average_time = sum(all_embeddings_timing) / len(all_embeddings_timing)\n",
    "print(f\"\\nAverage embedding time: {average_time:.4f} seconds\")"
   ]
  },
  {
   "cell_type": "code",
   "execution_count": 11,
   "metadata": {},
   "outputs": [],
   "source": [
    "#| hide\n",
    "\n",
    "import nbdev; nbdev.nbdev_export()"
   ]
  },
  {
   "cell_type": "code",
   "execution_count": null,
   "metadata": {},
   "outputs": [],
   "source": []
  }
 ],
 "metadata": {
  "kernelspec": {
   "display_name": ".venv",
   "language": "python",
   "name": "python3"
  },
  "language_info": {
   "codemirror_mode": {
    "name": "ipython",
    "version": 3
   },
   "file_extension": ".py",
   "mimetype": "text/x-python",
   "name": "python",
   "nbconvert_exporter": "python",
   "pygments_lexer": "ipython3",
   "version": "3.10.8"
  }
 },
 "nbformat": 4,
 "nbformat_minor": 2
}
