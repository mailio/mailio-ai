{
 "cells": [
  {
   "cell_type": "code",
   "execution_count": 2,
   "metadata": {},
   "outputs": [],
   "source": [
    "# Generating an access JWT token for the API access"
   ]
  },
  {
   "cell_type": "code",
   "execution_count": 1,
   "metadata": {},
   "outputs": [],
   "source": [
    "import os\n",
    "import sys\n",
    "import os\n",
    "from datetime import timedelta, datetime, timezone\n",
    "\n",
    "sys.path.append(\"..\")\n",
    "\n",
    "os.environ[\"CONFIG_PATH\"] = \"../config.yaml\"\n",
    "from config import Config, get_config\n",
    "import jwt"
   ]
  },
  {
   "cell_type": "code",
   "execution_count": null,
   "metadata": {},
   "outputs": [],
   "source": [
    "cfg = get_config()\n",
    "jwt_cfg = cfg.get(\"jwt\")\n",
    "print(jwt_cfg)"
   ]
  },
  {
   "cell_type": "code",
   "execution_count": 4,
   "metadata": {},
   "outputs": [],
   "source": [
    "def create_access_token(data: dict, secret_key:str, algorithm: str, expires_delta: timedelta = None):\n",
    "    to_encode = data.copy()\n",
    "    if expires_delta:\n",
    "        expire = datetime.now(timezone.utc) + expires_delta\n",
    "    to_encode.update({\"exp\": expire})\n",
    "    encoded_jwt = jwt.encode(to_encode, secret_key, algorithm=algorithm)\n",
    "    return encoded_jwt\n",
    "\n",
    "SLIDING_EXPIRATION_THRESHOLD = 5 # 5 minutes\n",
    "\n",
    "def verify_and_extend_token(token:str, secret_key: str, algorithm: str):\n",
    "    \"\"\"\n",
    "    Verify the token and extend it if it's close to expiry\n",
    "    Args: \n",
    "        token: The JWT token to verify\n",
    "        secret_key: The secret key used to sign the token\n",
    "        algorithm: The algorithm used to sign the token\n",
    "    Returns:\n",
    "        The original token if it's not close to expiry, or a new token if it is\n",
    "    \"\"\"\n",
    "    try:\n",
    "        payload = jwt.decode(token, secret_key, algorithms=[algorithm])\n",
    "        exp = datetime.fromtimestamp(payload[\"exp\"], tz=timezone.utc)\n",
    "        remaining_time = (exp - datetime.now(timezone.utc)).total_seconds() / 60  # In minutes\n",
    "\n",
    "        if remaining_time < SLIDING_EXPIRATION_THRESHOLD:\n",
    "            print(\"Token near expiration, extending...\")\n",
    "            return create_access_token({\"sub\": payload[\"sub\"]})\n",
    "        \n",
    "        return token  # Return the same token if it's not close to expiry\n",
    "    except jwt.ExpiredSignatureError:\n",
    "        raise ValueError(\"Token expired\")\n",
    "    except jwt.InvalidTokenError:\n",
    "        raise ValueError(\"Invalid token\")"
   ]
  },
  {
   "cell_type": "code",
   "execution_count": 5,
   "metadata": {},
   "outputs": [],
   "source": [
    "acc_token = create_access_token({\"sub\": \"test\"}, jwt_cfg.get(\"secret_key\"), jwt_cfg.get(\"algorithm\"), expires_delta=timedelta(seconds=jwt_cfg.get(\"expiration\", 900)))"
   ]
  },
  {
   "cell_type": "code",
   "execution_count": null,
   "metadata": {},
   "outputs": [],
   "source": [
    "acc_token"
   ]
  },
  {
   "cell_type": "code",
   "execution_count": 15,
   "metadata": {},
   "outputs": [],
   "source": [
    "refreshed_token = verify_and_extend_token(acc_token, jwt_cfg.get(\"secret_key\"), jwt_cfg.get(\"algorithm\"))"
   ]
  },
  {
   "cell_type": "code",
   "execution_count": null,
   "metadata": {},
   "outputs": [],
   "source": [
    "refreshed_token"
   ]
  },
  {
   "cell_type": "code",
   "execution_count": null,
   "metadata": {},
   "outputs": [],
   "source": []
  }
 ],
 "metadata": {
  "kernelspec": {
   "display_name": ".venv",
   "language": "python",
   "name": "python3"
  },
  "language_info": {
   "codemirror_mode": {
    "name": "ipython",
    "version": 3
   },
   "file_extension": ".py",
   "mimetype": "text/x-python",
   "name": "python",
   "nbconvert_exporter": "python",
   "pygments_lexer": "ipython3",
   "version": "3.9.6"
  }
 },
 "nbformat": 4,
 "nbformat_minor": 2
}
