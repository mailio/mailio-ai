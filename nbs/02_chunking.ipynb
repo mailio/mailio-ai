{
 "cells": [
  {
   "cell_type": "code",
   "execution_count": 11,
   "metadata": {},
   "outputs": [
    {
     "name": "stdout",
     "output_type": "stream",
     "text": [
      "The autoreload extension is already loaded. To reload it, use:\n",
      "  %reload_ext autoreload\n"
     ]
    }
   ],
   "source": [
    "#| default_exp chunking\n",
    "\n",
    "%load_ext autoreload\n",
    "%autoreload 2"
   ]
  },
  {
   "cell_type": "code",
   "execution_count": 12,
   "metadata": {},
   "outputs": [],
   "source": [
    "#| export\n",
    "\n",
    "from langchain_text_splitters import TokenTextSplitter, SentenceTransformersTokenTextSplitter\n",
    "from transformers import PreTrainedModel, PreTrainedTokenizer\n",
    "from langchain_core.embeddings import Embeddings\n",
    "from transformers import AutoTokenizer, AutoModel\n",
    "import os\n",
    "import sys\n",
    "import json\n",
    "from typing import List\n",
    "\n",
    "sys.path.append(\"..\")  # Adds the parent directory to sys path\n",
    "\n",
    "from data_types.email import Email, MessageType"
   ]
  },
  {
   "cell_type": "code",
   "execution_count": 13,
   "metadata": {},
   "outputs": [],
   "source": [
    "#| export\n",
    "\n",
    "class CustomEmbeddings:\n",
    "    \"\"\"Embed search docs.\n",
    "\n",
    "    Args:\n",
    "        texts: List of text to embed.\n",
    "\n",
    "    Returns:\n",
    "        List of embeddings.\n",
    "    \"\"\"\n",
    "    def __init__(self, model: PreTrainedModel, tokenizer: PreTrainedTokenizer):\n",
    "        self.model = model\n",
    "        self.tokenizer = tokenizer\n",
    "    \n",
    "    def embed_documents(self, texts: List[str]) -> List[List[float]]:\n",
    "        return [self.model.encode(text).tolist() for text in texts]\n",
    "        "
   ]
  },
  {
   "cell_type": "code",
   "execution_count": 14,
   "metadata": {},
   "outputs": [],
   "source": [
    "#| export\n",
    "\n",
    "# create a chunker object\n",
    "class Chunker:\n",
    "    def __init__(self, tokenizer: PreTrainedTokenizer, chunk_size:int=250, chunk_overlap:int=0):\n",
    "        # self.chunker = SemanticChunker(embeddings=custom_embeddings, breakpoint_threshold_type=threshold_type, breakpoint_threshold_amount=threshold_amount)\n",
    "        # self.chunker = TokenTextSplitter.from_huggingface_tokenizer(tokenizer=tokenizer, chunk_size=chunk_size, chunk_overlap=chunk_overlap, keep_whitespace=True)\n",
    "        self.chunker = SentenceTransformersTokenTextSplitter.from_huggingface_tokenizer(tokenizer=tokenizer, chunk_size=chunk_size, chunk_overlap=chunk_overlap)\n",
    "    \n",
    "    def chunk(self, text:str):\n",
    "        chunks = self.chunker.split_text(text)\n",
    "        return chunks\n",
    "\n"
   ]
  },
  {
   "cell_type": "code",
   "execution_count": 15,
   "metadata": {},
   "outputs": [],
   "source": [
    "tokenizer = AutoTokenizer.from_pretrained(\"distilbert/distilbert-base-multilingual-cased\")\n",
    "max_length = tokenizer.model_max_length\n",
    "chunker = Chunker(tokenizer, chunk_size=max_length - 2, chunk_overlap=0)"
   ]
  },
  {
   "cell_type": "code",
   "execution_count": 16,
   "metadata": {},
   "outputs": [
    {
     "data": {
      "text/plain": [
       "['no their isnt. get from igor rendulic igorampliogmailcom sent friday october 11 2024 113801 am to jones ryan rjones2amfamcom subject re water leak hi ryan thanks for the info. i wont be filing any claims at this time. one question though are there any cancellation fees if i switch my insurance. thank you for your answer in advance. best igor on thu oct 10 2024 at 3 10 pm jones hi ryan thanks for the info. i wont be filing any claims at this time. one question though are there any cancellation fees if i switch my insurance. thank you for your answer in advance. best igor on thu oct 10 2024 at 310 pm jones ryan wrote at this point its up to you. you have a 1000 deductible. i usually will advise clients to save the home insurance claims for the larger stuff. when you file a claim youll lose the claims free discount. if you have to file another claim usually it will result in an underwriting non renewal. it will then be very difficult to get insurance with another company. get from igor rendulic sent thursday october 10 2024 123925 pm to jones ryan subject re water leak hi ryan here is the invoice we got for the repairs and the detailed explanation. this doesnt include the fix for the damage on the wall and the floor. please let me know if any of this is claimable and worth claiming. thank you igor on hi ryan here is the invoice we got for the repairs and the detailed explanation. this doesnt include the fix for the damage on the wall and the floor. please let me know if any of this is claimable and worth claiming. thank you igor on wed oct 9 2024 at 212 pm jones ryan wrote k sounds great. thank you your feedback is valuable to us. you may receive',\n",
       " 'a survey and we actively use that feedback to constantly improve our delivery and provide you with the best possible service. ryan jones american family insurance 8015427041 from igor rendulic sent wednesday october 9 2024 209 pm to jones ryan subject re water leak ive called the plumbing company. they should get here today sometime. ill ask them for damage assessment if theyre able to do it. on wed oct 9 2024 at 11 56 am jones ryan rjones2 amfam. com wrote it likely could cover the resulting ive called the plumbing company. they should get here today sometime. ill ask them for damage assessment if theyre able to do it. on wed oct 9 2024 at 1156 am jones ryan wrote it likely could cover the resulting damage from the break. we usually recommend getting a company over there to assess the damage and see if it would be worth it to file the claim. would you like a recommendation or would you just like to move forward with the claims process. thank you your feedback is valuable to us. you may receive a survey and we actively use that feedback to constantly improve our delivery and provide you with the best possible service. ryan jones american family insurance 8015427041 from igor rendulic sent wednesday october 9 2024 827 am to jones ryan subject water leak hi ryan it appears we have a leak from on the basement water pipes in our home. does our home insurance cover that. if so how do we go about it. thank you igor rendulic hi ryan it appears we have a leak from on the basement water pipes in our home. does our home insurance cover that. if so how do we go about it. thank you igor rendulic american family insurance company american family life insurance company american family mutual insurance company si. american standard insurance company of ohio american standard insurance company of wisconsin home office permanent general assurance corporation permanent general assurance',\n",
       " 'corporation of ohio the general automobile insurance company inc dba the general home office wholly owned subsidiaries of american family mutual insurance company si if you do not want to receive commercial messages from american family in the future please. if you are not the intended recipient please contact the sender and delete this email any attachments and all copies']"
      ]
     },
     "execution_count": 16,
     "metadata": {},
     "output_type": "execute_result"
    }
   ],
   "source": [
    "test = [\"No their isnt\", \"Get From Igor Rendulic igorampliogmailcom Sent Friday October 11 2024 113801 AM To Jones Ryan RJONES2amfamcom Subject Re Water leak Hi Ryan Thanks for the info\", \"I wont be filing any claims at this time\", \"One question though Are there any cancellation fees if I switch my insurance\", \"Thank you for your answer in advance\", \"Best Igor On Thu Oct 10 2024 at 3 10 PM Jones Hi Ryan Thanks for the info\", \"I wont be filing any claims at this time\", \"One question though Are there any cancellation fees if I switch my insurance\", \"Thank you for your answer in advance\", \"Best Igor On Thu Oct 10 2024 at 310 PM Jones Ryan wrote At this point its up to you\", \"You have a 1000 deductible\", \"I usually will advise clients to save the home insurance claims for the larger stuff\", \"When you file a claim youll lose the claims free discount\", \"If you have to file another claim usually it will result in an underwriting non renewal\", \"It will then be very difficult to get insurance with another company\", \"Get From Igor Rendulic Sent Thursday October 10 2024 123925 PM To Jones Ryan Subject Re Water leak Hi Ryan Here is the invoice we got for the repairs and the detailed explanation\", \"This doesnt include the fix for the damage on the wall and the floor\", \"Please let me know if any of this is claimable and worth claiming\", \"Thank you Igor On Hi Ryan Here is the invoice we got for the repairs and the detailed explanation\", \"This doesnt include the fix for the damage on the wall and the floor\", \"Please let me know if any of this is claimable and worth claiming\", \"Thank you Igor On Wed Oct 9 2024 at 212 PM Jones Ryan wrote K sounds great\", \"Thank You Your feedback is valuable to us\", \"You may receive a survey and we actively use that feedback to constantly improve our delivery and provide you with the best possible service\", \"Ryan Jones American Family Insurance 8015427041 From Igor Rendulic Sent Wednesday October 9 2024 209 PM To Jones Ryan Subject Re Water leak Ive called the plumbing company\", \"They should get here today sometime\", \"Ill ask them for damage assessment if theyre able to do it\", \"On Wed Oct 9 2024 at 11 56 AM Jones Ryan RJONES2 amfam\", \"com wrote It likely could cover the resulting Ive called the plumbing company\", \"They should get here today sometime\", \"Ill ask them for damage assessment if theyre able to do it\", \"On Wed Oct 9 2024 at 1156 AM Jones Ryan wrote It likely could cover the resulting damage from the break\", \"We usually recommend getting a company over there to assess the damage and see if it would be worth it to file the claim\", \"Would you like a recommendation or would you just like to move forward with the claims process\", \"Thank You Your feedback is valuable to us\", \"You may receive a survey and we actively use that feedback to constantly improve our delivery and provide you with the best possible service\", \"Ryan Jones American Family Insurance 8015427041 From Igor Rendulic Sent Wednesday October 9 2024 827 AM To Jones Ryan Subject Water leak Hi Ryan It appears we have a leak from on the basement water pipes in our home\", \"Does our home insurance cover that\", \"If so how do we go about it\", \"Thank you Igor Rendulic Hi Ryan It appears we have a leak from on the basement water pipes in our home\", \"Does our home insurance cover that\", \"If so how do we go about it\", \"Thank you Igor Rendulic American Family Insurance Company American Family Life Insurance Company American Family Mutual Insurance Company SI\", \"American Standard Insurance Company of Ohio American Standard Insurance Company of Wisconsin Home Office Permanent General Assurance Corporation Permanent General Assurance Corporation of Ohio The General Automobile Insurance Company Inc DBA The General Home Office wholly owned subsidiaries of American Family Mutual Insurance Company SI If you do not want to receive commercial messages from American Family in the future please\", \"If you are not the intended recipient please contact the sender and delete this email any attachments and all copies\"]\n",
    "test_txt =\".\".join(test)\n",
    "chunker.chunk(test_txt)"
   ]
  },
  {
   "cell_type": "code",
   "execution_count": 8,
   "metadata": {},
   "outputs": [],
   "source": [
    "# list all files from data\n",
    "data_dir = '../data'\n",
    "files = [f for f in os.listdir(data_dir) if f.endswith(\".jsonl\") and os.path.isfile(os.path.join(data_dir, f))]"
   ]
  },
  {
   "cell_type": "code",
   "execution_count": 10,
   "metadata": {},
   "outputs": [
    {
     "name": "stdout",
     "output_type": "stream",
     "text": [
      "Email 13 has 5 chunks\n",
      "v vednostlpgorazdsent from my iphonebegin forwarded messagefrom podpora hitrostcom podporahitrostcomdate 15 november 2024 at 080150 cetto gorazdgorskoconstructionscomsubject re fwd igor rendulic furnitureappliances for boulder copozdravljenislednje imate zabelezeno20241114 220945 hmailpg1f177googlecom 20985215177 xtls13tls _ aes _ 128 _ gcm _ sha256128 cvno fnathanamericanhomesteadfurniturecom rejected rcpt gorazdgorskoconstructionscom spf validation failed syntax error in spf records for americanhomesteadfurniturecom 20985215177 us intcode731001gmail spf zapis manjka nathanamericanhomesteadfurniturecomda ker posiljajo preko gmaila in nimajo ustrezno urejenga dns txt zapisa pri obstojeci spf vrednostimanjka googlov spf include _ spfgooglecomhttpssupportgooglecomaanswer10684623hlenvezano je naspf sender policy framework je vrsta dns txt zapisa ki navaja vse streznike pooblascene za posiljanje eposte iz dolocene domenetorej spf zapis doloca kdo lahko posilja v imenu posiljateljeve domeneje ena od kljucnih zascit pred nezazeleno epostoka\n",
      "##ko izklopim vklopim spf zascitohttpspodporahitrostcompkakoizklopimvklopimspfzascitov kolikor potrebujete dodatne informacije sporocite kar z odgovorom na to epostno sporocilopotrebujete pomoc ali nasvet. httpspodporahitrostcomz lepimi pozdraviekipa hitrostcomhitrostcom doocesta zelezarjev 8b4270 jesenicetel. 04 583 50 48wwwhitrostcomon 15112024 0757 podpora hitrostcom wrotepozdravljeniprosimo sporocite obvstilo. kar ste posredovali se zakljuci s see technical details below fro mor information in ni besedila naprej. najbrz hitrostcom spet blokira tujinoto preverite po namiguko mi zelijo poslati epostno sporocilo prejmejo odgovor email blocked by spam filter. kaj lahko storimhttpspodporahitrostcompemailblockedbyspamfiltersledenje dnevniki zavrnjenih epostnih sporocil so na voljo na dnu stranieposta httpspodporahitrostcomkepostav kolikor potrebujete dodatne informacije sporocite kar z odgovorom na to epostno sporocilopotrebujete pomoc ali nasvet. httpspodpor\n",
      "##ahitrostcomz lepimi pozdraviekipa hitrostcomhitrostcom doocesta zelezarjev 8b4270 jesenicetel. 04 583 50 48wwwhitrostcomon 14112024 2249 gorazdgorskoconstructionscom wrotelepo prosim poglejte spodaj komunikacijozakaj je blokiran ta posiljateljkoliko ostalih je bilo blokiranihlahko kje to preverimkako se umaknejo te blokadeveliko smo zaceli komunicirati s tujino in tole je seveda zelo motece. gorazd tusekceo foundergt gorsko dooid za ddv si47892501httpswwwfacebookcomzagagtgorskohttpswwwlinkedincom companygtgorskoabouthttpswwwinstagramcomgorazdtusek031 811 297gorazdgorskosi mailtogorazdgorskosiwwwgorskosi httpwwwgorskosioglejte si tudi nase ostale specializirane spletne stranihisegorskosi httphisegorskosi konstrukcijegorskosi httpkonstrukcijegorskosi holzbautusekat httpholzbau tusekat bolhacomtrgovinagorsko httpbolhacomtrgovinagorskosent from my iphonebegin forwarded messagefrom igor rendulic igorampliogmailcomdate 14 november 2024 at 224249 cetto gorazdgorskoconstructionscomsubject re igor rendulic furnitureapplian\n",
      "##ces for boulder coto mu je ven vrglo41a7c7e995004834aba941c90621d80cjpegon thu nov 14 2024 at 238 pm gorazdgorskoconstructionscom mailtogorazdgorskoconstructionscom gorazdgorsko constructionscom mailtogorazdgorskoconstructionscom wrote ja res nisem dobil hvala za posredovano mu posljem samo za test in tebi v vednost kaj pa mu je javilo. najbrz hitrostcom httphitrostcom spet blokira tujino gorazd tusek ceo founder gt gorsko doo. id za ddv si47892501 httpswwwfacebookcomzagagtgorskohttpswwwlinkedincom companygtgorskoabouthttpswwwinstagramcomgorazdtusek 031 811 297 gorazdgorskosi mailtogorazdgorskosi wwwgorskosi httpwwwgorskosi oglejte si tudi nase ostale specializirane spletne strani hisegorskosi httphisegorskosi konstrukcijegorskosi httpkonstrukcijegorskosi holzbautusekat http holzbautusekat bolhacomtrgovinagorsko httpbolhacom trgovinagorsko sent from my iphone on 14 nov 2024 at 2229 igor rendulic igorampliogmailcom mailtoigorampliogmailcom wrote sma ti probala s kolegom poslat mail pa je zavracalo. probam se tukaj. forwarded message from nathan\n",
      "chetrit nathanamericanhomesteadfurniturecom mailtonathanamericanhomesteadfurniturecom date thu nov 14 2024 at 224 pm subject fwd igor rendulic furnitureappliances for boulder co to igorampliogmailcom mailtoigorampliogmailcom forwarded message from nathan chetrit nathanamericanhomesteadfurniturecom mailtonathanamericanhomesteadfurniturecom date fri nov 5 2024 at 809 am subject igor rendulic furnitureappliances for boulder co to gorazdgorskoconstructionscom mailtogorazdgorsko constructionscom hello nice to meet you. my family friend igor sent me some drawings for a project you are working on in colorado. my company specializes in helping mid to large developers with setting up their properties for short term rentals. we can provide everything from the sofasmattresses appliances tv toilets and utensils cleaning supplies etc anything you need to run a vacation rental or corporate suite. my design team has put together a quick presentation for you to look at as a starting point. please see attached. i would be happy to meet with you to discuss what your needs are and how we can help. best nathan chetrit president american homestead furniture modern cabinpdf\n"
     ]
    }
   ],
   "source": [
    "tokenizer = AutoTokenizer.from_pretrained(\"distilbert/distilbert-base-multilingual-cased\")\n",
    "max_length = tokenizer.model_max_length\n",
    "chunker = Chunker(tokenizer, chunk_size=max_length - 2, chunk_overlap=0)\n",
    "\n",
    "for file in files:\n",
    "    with open(os.path.join(data_dir, file), 'r') as f:\n",
    "        jsonl = f.read()\n",
    "\n",
    "    emails = jsonl.split('\\n')\n",
    "    for i, e in enumerate(emails):\n",
    "        try:\n",
    "            d = json.loads(e)\n",
    "            email = Email.from_dict(d)\n",
    "            if len(email.sentences) > 0:\n",
    "                text = \".\".join(email.sentences)\n",
    "                chunks = chunker.chunk(text)\n",
    "                if len(chunks) > 2:\n",
    "                    print(f\"Email {i} has {len(chunks)} chunks\")\n",
    "                    for ch in chunks:\n",
    "                        print(ch)\n",
    "                    break\n",
    "        except Exception as e:\n",
    "            print(e)\n",
    "            print(f\"Error in email {i}\")"
   ]
  },
  {
   "cell_type": "code",
   "execution_count": 18,
   "metadata": {},
   "outputs": [],
   "source": [
    "#| hide\n",
    "\n",
    "import nbdev; nbdev.nbdev_export()"
   ]
  },
  {
   "cell_type": "code",
   "execution_count": null,
   "metadata": {},
   "outputs": [],
   "source": []
  }
 ],
 "metadata": {
  "kernelspec": {
   "display_name": ".venv",
   "language": "python",
   "name": "python3"
  },
  "language_info": {
   "codemirror_mode": {
    "name": "ipython",
    "version": 3
   },
   "file_extension": ".py",
   "mimetype": "text/x-python",
   "name": "python",
   "nbconvert_exporter": "python",
   "pygments_lexer": "ipython3",
   "version": "3.10.8"
  }
 },
 "nbformat": 4,
 "nbformat_minor": 2
}
