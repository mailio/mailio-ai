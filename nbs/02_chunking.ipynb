{
 "cells": [
  {
   "cell_type": "code",
   "execution_count": 8,
   "metadata": {},
   "outputs": [
    {
     "name": "stdout",
     "output_type": "stream",
     "text": [
      "The autoreload extension is already loaded. To reload it, use:\n",
      "  %reload_ext autoreload\n"
     ]
    }
   ],
   "source": [
    "#| default_exp chunking\n",
    "\n",
    "%load_ext autoreload\n",
    "%autoreload 2"
   ]
  },
  {
   "cell_type": "code",
   "execution_count": 10,
   "metadata": {},
   "outputs": [],
   "source": [
    "#| export\n",
    "\n",
    "from langchain_text_splitters import TokenTextSplitter\n",
    "from transformers import PreTrainedModel, PreTrainedTokenizer\n",
    "from langchain_core.embeddings import Embeddings\n",
    "from transformers import AutoTokenizer, AutoModel\n",
    "import os\n",
    "import sys\n",
    "import json\n",
    "from typing import List\n",
    "\n",
    "sys.path.append(\"..\")  # Adds the parent directory to sys path\n",
    "\n",
    "from data_types.email import Email, MessageType"
   ]
  },
  {
   "cell_type": "code",
   "execution_count": 3,
   "metadata": {},
   "outputs": [],
   "source": [
    "#| export\n",
    "\n",
    "class CustomEmbeddings:\n",
    "    \"\"\"Embed search docs.\n",
    "\n",
    "    Args:\n",
    "        texts: List of text to embed.\n",
    "\n",
    "    Returns:\n",
    "        List of embeddings.\n",
    "    \"\"\"\n",
    "    def __init__(self, model: PreTrainedModel, tokenizer: PreTrainedTokenizer):\n",
    "        self.model = model\n",
    "        self.tokenizer = tokenizer\n",
    "    \n",
    "    def embed_documents(self, texts: List[str]) -> List[List[float]]:\n",
    "        return [self.model.encode(text).tolist() for text in texts]\n",
    "        "
   ]
  },
  {
   "cell_type": "code",
   "execution_count": 11,
   "metadata": {},
   "outputs": [],
   "source": [
    "#| export\n",
    "\n",
    "# create a chunker object\n",
    "class Chunker:\n",
    "    def __init__(self, tokenizer: PreTrainedTokenizer, chunk_size:int=250, chunk_overlap:int=0):\n",
    "        # self.chunker = SemanticChunker(embeddings=custom_embeddings, breakpoint_threshold_type=threshold_type, breakpoint_threshold_amount=threshold_amount)\n",
    "        self.chunker = TokenTextSplitter.from_huggingface_tokenizer(tokenizer=tokenizer, chunk_size=chunk_size, chunk_overlap=chunk_overlap)\n",
    "    \n",
    "    def chunk(self, text:str):\n",
    "        chunks = self.chunker.create_documents([text])\n",
    "        return chunks\n",
    "\n"
   ]
  },
  {
   "cell_type": "code",
   "execution_count": 5,
   "metadata": {},
   "outputs": [],
   "source": [
    "# list all files from data\n",
    "data_dir = '../data'\n",
    "files = os.listdir(data_dir)"
   ]
  },
  {
   "cell_type": "code",
   "execution_count": 6,
   "metadata": {},
   "outputs": [
    {
     "name": "stdout",
     "output_type": "stream",
     "text": [
      "Email 13 has 4 chunks\n",
      "V vednostLpGorazdSent from my iPhoneBegin forwarded messageFrom Podpora Hitrostcom podporahitrostcomDate 15 November 2024 at 080150 CETTo gorazdgorskoconstructionscomSubject Re Fwd Igor Rendulic FurnitureAppliances for Boulder COPozdravljenislednje imate zabelezeno20241114 220945 Hmailpg1f177googlecom 20985215177 XTLS13TLS_AES_128_GCM_SHA256128 CVno Fnathanamericanhomesteadfurniturecom rejected RCPT gorazdgorskoconstructionscom SPF validation failed syntax error in SPF records for americanhomesteadfurniturecom 20985215177 US IntCode731001Gmail SPF zapis manjka nathanamericanhomesteadfurniturecomda ker posiljajo preko Gmaila in nimajo ustrezno urejenga DNS TXT zapisa pri obstojeci SPF vrednostiManjka googlov SPF include_spfgooglecomhttpssupportgooglecomaanswer10684623hlenVezano je naSPF Sender Policy Framework je vrsta DNS TXT zapisa ki navaja vse streznike pooblascene za posiljanje eposte iz dolocene domeneTorej SPF zapis doloca kdo lahko posilja v imenu posiljateljeve domeneJe ena od kljucnih zascit pred nezazeleno epostoKako izklopim vklopim SPF zascitohttpspodporahitrostcompkakoizklopimvklopimspfzascitoV kolikor potrebujete dodatne informacije sporocite kar z odgovorom na to epostno sporociloPotrebujete pomoc ali nasvet. httpspodporahitrostcomZ lepimi pozdraviekipa HitrostcomHITROSTCOM dooCesta zelezarjev 8b4270 JeseniceTel. 04 583 50 48wwwhitrostcomOn 15112024 0757\n",
      " Podpora Hitrostcom wrotePozdravljeniprosimo sporocite obvstilo. Kar ste posredovali se zakljuci s See technical details below fro mor information in ni besedila naprej. Najbrz hitrostcom spet blokira tujinoTo preverite po namiguKo mi zelijo poslati epostno sporocilo prejmejo odgovor Email blocked by spam filter. Kaj lahko storimhttpspodporahitrostcompemailblockedbyspamfilterSledenje dnevniki zavrnjenih epostnih sporocil so na voljo na dnu straniEposta httpspodporahitrostcomkepostaV kolikor potrebujete dodatne informacije sporocite kar z odgovorom na to epostno sporociloPotrebujete pomoc ali nasvet. httpspodporahitrostcomZ lepimi pozdraviekipa HitrostcomHITROSTCOM dooCesta zelezarjev 8b4270 JeseniceTel. 04 583 50 48wwwhitrostcomOn 14112024 2249 gorazdgorskoconstructionscom wroteLepo prosim poglejte spodaj komunikacijoZakaj je blokiran ta posiljateljKoliko ostalih je bilo blokiranihLahko kje to preverimKako se umaknejo te blokadeVeliko smo zaceli komunicirati s tujino in tole je seveda zelo motece. Gorazd TusekCEO FounderGT Gorsko dooID za DDV SI47892501httpswwwfacebookcomzagagtgorskohttpswwwlinkedincom companygtgorskoabouthttpswwwinstagramcomgorazdtusek031 811 297gorazdgorskosi mailtogorazdgorskosiwwwgorskosi httpwwwgorskosiOglejte si tudi nase ostale specializirane spletne stranihisegorskosi httphisegorskosi konstrukci\n",
      "jegorskosi httpkonstrukcijegorskosi holzbautusekat httpholzbau tusekat bolhacomtrgovinagorsko httpbolhacomtrgovinagorskoSent from my iPhoneBegin forwarded messageFrom Igor Rendulic igorampliogmailcomDate 14 November 2024 at 224249 CETTo gorazdgorskoconstructionscomSubject Re Igor Rendulic FurnitureAppliances for Boulder COto mu je ven vrglo41A7C7E995004834ABA941C90621D80CjpegOn Thu Nov 14 2024 at 238 PM gorazdgorskoconstructionscom mailtogorazdgorskoconstructionscom gorazdgorsko constructionscom mailtogorazdgorskoconstructionscom wrote Ja res nisem dobil hvala za posredovano mu posljem samo za test in tebi v vednost kaj pa mu je javilo. Najbrz hitrostcom httphitrostcom spet blokira tujino Gorazd Tusek CEO Founder GT Gorsko doo. ID za DDV SI47892501 httpswwwfacebookcomzagagtgorskohttpswwwlinkedincom companygtgorskoabouthttpswwwinstagramcomgorazdtusek 031 811 297 gorazdgorskosi mailtogorazdgorskosi wwwgorskosi httpwwwgorskosi Oglejte si tudi nase ostale specializirane spletne strani hisegorskosi httphisegorskosi konstrukcijegorskosi httpkonstrukcijegorskosi holzbautusekat http holzbautusekat bolhacomtrgovinagorsko httpbolhacom trgovinagorsko Sent from my iPhone On 14 Nov 2024 at 2229 Igor Rendulic igorampliogmailcom mailtoigorampliogmailcom wrote Sma ti probala s kolegom poslat mail pa je zavracalo. Probam se tukaj. Forwarded message From Nathan Chetrit nathanamericanhomesteadfurniturecom mailtonathanamericanhomesteadfurniture\n",
      "com Date Thu Nov 14 2024 at 224 PM Subject Fwd Igor Rendulic FurnitureAppliances for Boulder CO To igorampliogmailcom mailtoigorampliogmailcom Forwarded message From Nathan Chetrit nathanamericanhomesteadfurniturecom mailtonathanamericanhomesteadfurniturecom Date Fri Nov 5 2024 at 809 AM Subject Igor Rendulic FurnitureAppliances for Boulder CO To gorazdgorskoconstructionscom mailtogorazdgorsko constructionscom Hello Nice to meet you. My family friend Igor sent me some drawings for a project you are working on in Colorado. My company specializes in helping mid to large developers with setting up their properties for short term rentals. We can provide everything from the sofasmattresses appliances TV toilets and utensils cleaning supplies etc anything you need to run a vacation rental or corporate suite. My design team has put together a quick presentation for you to look at as a starting point. Please see attached. I would be happy to meet with you to discuss what your needs are and how we can help. Best Nathan Chetrit President American Homestead Furniture MODERN CABINpdf\n",
      "Email 46 has 3 chunks\n",
      "Get your app up to speed meet the team behind Lies of P explore new student resources and more. OCTOBER 2024Hello DeveloperHeres whats happening in the Apple Developer community this monthMEET WITH APPLEBuild faster and more efficient appsWant to get your app up to speed. Whether youre optimizing an existing app or just starting out you can join us in person in Cupertino Bengaluru or Shanghai to find out how to reduce launch time create smooth scrolling and animations with SwiftUI and optimize energy use or battery life. Apps are a joy to use when theyre fast and responsive says presenter and technology evangelist Cole Imhoff. Performance motivates people to come back to your app depend on it and recommend itJoin us in or LEARN TO CODEReady to start coding in Swift. Join the clubSwift Coding Clubs are a great way for students who are passionate about creating incredible apps to develop their skills build community and get ready for the Swift Student Challenge. And now that Swift Coding Clubs use our new Develop in Swift Tutorials its easier than ever for students to get started with SwiftGet ready for the Swift Student Challenge 2025Over the years the Swift Student Challenge has given thousands of student developers the opportunity to showcase their creativity and coding capabilities and its time to see whos up next. Applications for the Swift Student Challenge will open in February 2025BEHIND THE DESIGNMeet the team pulling the strings behind Lies of PThe dark fantasy adventure Lies of P is a fascinating twist on a familiar fable. Players control a humanoid puppet created by Geppetto but instead of a wooden boy with a penchant for little white lies this puppet is a mechanical warrior with an array of massive swords and a mission to find his maker who isnt exactly the genial old woodcarver from the story. We knew that to create a lasting memory we had to add our own twists says director Jiwon Choi of the games ROUND8 Studio. Heres how they did itGROW YOUR BUSINESSCreate new subscription winback offersEncourage people to resubscribe to your app or games autorenewable subscription on the App Store by providing winback offers. These offers can be discovered on the App Store in your app or game and other places. You can now create offer codes for macOS so people can redeem your offer for a discounted or free subscription on their MacNEWS SNIPPETSBrowse new documentation and resourcesCheck out these exciting updates across Apple platformsRead HIG updates on and Stream\n",
      " sessions on YouTubeDont forget to visit the Apple Developer YouTube channel to catch up on great sessions from past WWDCsShare your thoughtsWed love to hear from you. If you have suggestions for our activities or stories please OCTOBER 2024Hello DeveloperHeres whats happening in the Apple Developer community this monthMEET WITH APPLEBuild faster and more efficient appsWant to get your app up to speed. Whether youre optimizing an existing app or just starting out you can join us in person in Cupertino Bengaluru or Shanghai to find out how to reduce launch time create smooth scrolling and animations with SwiftUI and optimize energy use or battery life. Apps are a joy to use when theyre fast and responsive says presenter and technology evangelist Cole Imhoff. Performance motivates people to come back to your app depend on it and recommend itJoin us in or LEARN TO CODEReady to start coding in Swift. Join the clubSwift Coding Clubs are a great way for students who are passionate about creating incredible apps to develop their skills build community and get ready for the Swift Student Challenge. And now that Swift Coding Clubs use our new Develop in Swift Tutorials its easier than ever for students to get started with SwiftGet ready for the Swift Student Challenge 2025Over the years the Swift Student Challenge has given thousands of student developers the opportunity to showcase their creativity and coding capabilities and its time to see whos up next. Applications for the Swift Student Challenge will open in February 2025BEHIND THE DESIGNMeet the team pulling the strings behind Lies of PThe dark fantasy adventure Lies of P is a fascinating twist on a familiar fable. Players control a humanoid puppet created by Geppetto but instead of a wooden boy with a penchant for little white lies this puppet is a mechanical warrior with an array of massive swords and a mission to find his maker who isnt exactly the genial old woodcarver from the story. We knew that to create a lasting memory we had to add our own twists says director Jiwon Choi of the games ROUND8 Studio. Heres how they did itGROW YOUR BUSINESSCreate new subscription winback offersEncourage people to resubscribe to your app or games autorenewable subscription on the App Store by providing winback offers. These offers can be discovered on the App Store in your app or game and other places. You can now create offer codes for macOS so people can redeem your offer for a discounted or free subscription on their MacNEWS SN\n",
      "IPPETSBrowse new documentation and resourcesCheck out these exciting updates across Apple platformsRead HIG updates on and Stream sessions on YouTubeDont forget to visit the Apple Developer YouTube channel to catch up on great sessions from past WWDCsShare your thoughtsWed love to hear from you. If you have suggestions for our activities or stories please. Copyright 2024 Apple Inc One Apple Park Way MS 9234DEV Cupertino CA 95014 If you would prefer not to receive future communications from Apple Developer you may\n",
      "Email 304 has 4 chunks\n",
      "Your Flight Confirmation Code YBTJKF PURCHASE CONFIRMATION Thank you for your purchase with us. Your flight confirmation code is You can checkin and retrieve your boarding pass 24 hours before your flight. Need to update or cancelchange your flight. Untitled Document Untitled Document Flights Subtotal 20796 Departing FLIGHT 3393 Salt Lake City SLC to San Francisco SFO Depart 11162024 310 PM Arrive 11162024 422 PM Journey Duration 2 hr 12 min Returning FLIGHT 3394 San Francisco SFO to Salt Lake City SLC Depart 11172024 535 PM Arrive 11172024 828 PM Journey Duration 1 hr 53 min Boarding ends 20 min before flight departure. PURCHASE SUMMARY AMOUNT PAID 20796 PASSENGERS Subtotal 000 ADULTS 1 Igor Rendulic Not a FRONTIER Milessm Member. BUNDLES LIMITED TIME OFFER ACT QUICK AND SAVE. Bundle your trip and save. Get a Checked Bag Carryon Bag Assigned Seat Priority Boarding Flight Flexibility and more. . SERVICES Subtotal 000 SelfService 000 No PrePurchased Airport Agent Assistance FREE You have chosen SelfService and will not need assistance from an airport agent. Please download our mobile app or visit. If you prefer Agent Assistance at the airport ticket counter for things like checking in and printing your boarding pass you may purchase that now. Reminder bags and seats cost more at the airport. SEATS Subtotal 000 You have not purchased a seat assignments You will be randomly assigned seats at checkin. . BAGS Subtotal 000 NEW Checked Bags Limited to 40lbs You have not purchased bags You can bring one personal item no larger than larger than 14H X 18W X 8D. LOOKING FOR TRAVEL INSURANCEProtect your trip with Travel GuardTM travel insurance Be Prepared. Pack a travel insurance plan. Taxes And Carrier Imposed Fees US Transportation Tax 355 External Booking FeeNonRefundable 500 Carrier Interface Charge NonRefundable 2300 US Passenger Security Fee 560 US Domestic Flight Segment Tax SLCSFO 500 Passenger Facility Charge SLCSFO 450 US Transportation Tax 495 External Booking FeeNonRefundable 500 Carrier Interface Charge NonRefundable 2300 US Passenger Security Fee 560 US Domestic Flight Segment Tax SFOSLC 500 Passenger Facility Charge SFOSLC 450 PURCHASE TOTAL Airfare 11326 Taxes and CarrierImposed Fees 9470 Grand Total 20796 PAYMENT Master\n",
      "card Total 20796 Payment Date 11142024 Payment Type Mastercard Approved XXXXXXXXXXXX6913 Rated Best Airline Card for Budget Travel by MONEYcom Earn 50000 Miles after qualifying activity. Plus Cardmembers can enjoy two free checked bags on Frontier flights. . Connect with us Download the app 2024 Frontier Airlines. All Rights Reserved. 4545 Airport Way Denver CO 80239 CNFRMPRODV1 Airline Passengers with Disabilities Bill of Rights If you are a passenger with a disability and require special services please review the for more information. Tips to assist with your travel planning Save time at the airport Checkin online within 24 hours of your departure. Want more legroom. We have it. Premium seating is available on all our airplanes. . You can add Checked and CarryOn Bag options choose preassigned seats and check the status of your flight on Frontier Airlines mobile app Android or iOS. Rental Cars Choose from Avis or Budget all from one easy search. Rent a Car. . Terms and Conditions IMPORTANT By purchasing you have agreed to our. Baggage Elite Gold members are entitled to bring a free carryon bag. Elite Platinum members are entitled to bring a free carryon bag and a free first checked bag including SkiGolf bags for everyone on their reservation. Elite Diamond Status members are entitled to bring a free carryon bag and a free first checked bag including SkiGolf bags in addition to a free second checked bag for everyone on their reservation. US military service members onboard that present either a Common Access Card CAC with a uniformed services or academy affiliation or an Armed Forces of the United States Identification Card with an active duty reserve guard or academy affiliation are entitled to bring one free personal item one free carryon bag and two free checked bags for accompanying spouse and children. Oversize and overweight baggage fees are waived for the first two free checked bags. One included with your fare Maximum size 8D x 18W x 14H including handles wheels and straps The size of your one included personal item will be checked during boarding. Items larger than the allowed dimensions are subject to an additional charge. For price seeA bag option prices below. Maximum size 10D x 16W x 24H including handles wheels and straps Maximum weight 35lbs The size of your carryon bag will be checked during boarding. Items larger than the allowed dimensions are subject to an additional charge. For price seeA bag option prices below. Maximum size 62 linear inches length width depth including handles wheels and straps oversize bags subject to\n",
      " charge. Maximum weight 40lbs 181 kilograms Baggage weighing 100 or more pounds 45 kilograms or exceeding 110 linear inches will not be accepted with the exception of assistive devices. 75 per bag per directionA NonRefundable Bags between 63110 linear inches subject to charge. Bags in excess of 110 linear inches will not be accepted. 75100 per bag per directionA NonRefundableBags weighing 4150 pounds will be charged 75 per bag per direction. Bags weighing 51100 pounds will be charged 100 per bag per direction. Bags in excess of 100 pounds will not be accepted. Bag option prices Purchase Location CarryOn Bag 1st Checked Bag 2nd Checked Bag 3 Checked Bag BEST VALUEAt booking on webmobile 54 54 74 94 After booking and up to 24 hrs before departure on webmobile 69 69 84 104 Customer Support Agent 79 79 89 95 Webmobile checkin 69 69 84 104 Airport ticket counter or selfserve kiosk 79 79 89 95 Departure gate 99 99 for bags exceeding our size requirements NA NA All prices are per passenger per direction. A service agent charge of up to 25 per person per direction applies to all agent assisted transactions. Seating Charges for seating upgrades are charged per flight including connecting flights in the itinerary. Refunds If you purchased your ticket at FlyFrontiercom or through our Reservations Department you may request a full refund up to 24 hours after the time of purchase if the purchase was made 7 days 168 hours or more prior to your flights departure. This ticket may be canceled and refunded at the My Trips section on. CheckIn Times For most flights you can check in on the Frontier app starting 24 hours before your flights scheduled departure time. We recommend you arrive at least 2 hours before departure to ensure you are checked in and at the gate by the cutoff times. You must have your boarding pass printed and any baggage checked by the following cutoff times Domestic Flights 60 minutes before departure International Flights 60 minutes before departure Please be at the gate and ready to board no later than 45 minutes before departure. Change flight fee per person per direction Basic FareStandard Fare 60 Days Prior to Departure 0 59 to 7 Days Prior to Departure 49 6 Days or Less Prior to Departure 99 Including Same Day. Economy Premium and Business 60 Days Prior to Departure through day of departure 0 Bizfare 60 Days Prior to Departure through day of departure 0 For full details visit. Discount Den If you purchased a Discount Den membership\n",
      " you can find all details of your subscription on the page. Customer Relations To contact Customer Relations visit or mail to Attn Customer Relations Frontier Airlines 4545 Airport Way Denver CO 80239 Passengers who are Elite loyalty members or customers that have either upcoming travel within 24 hours or recently completed travel within 24 hours can call us at 8014019000 for assistance\n"
     ]
    }
   ],
   "source": [
    "tokenizer = AutoTokenizer.from_pretrained(\"distilbert/distilbert-base-multilingual-cased\")\n",
    "max_length = tokenizer.model_max_length\n",
    "chunker = Chunker(tokenizer, chunk_size=max_length - 2, chunk_overlap=0)\n",
    "\n",
    "for file in files:\n",
    "    with open(os.path.join(data_dir, file), 'r') as f:\n",
    "        jsonl = f.read()\n",
    "\n",
    "    emails = jsonl.split('\\n')\n",
    "    for i, e in enumerate(emails):\n",
    "        try:\n",
    "            d = json.loads(e)\n",
    "            email = Email.from_dict(d)\n",
    "            if len(email.sentences) > 0:\n",
    "                chunks = chunker.chunk(email)\n",
    "                if len(chunks) > 2:\n",
    "                    print(f\"Email {i} has {len(chunks)} chunks\")\n",
    "                    for ch in chunks:\n",
    "                        print(ch.page_content)\n",
    "                    break\n",
    "        except Exception as e:\n",
    "            print(e)\n",
    "            print(f\"Error in email {i}\")"
   ]
  },
  {
   "cell_type": "code",
   "execution_count": 12,
   "metadata": {},
   "outputs": [],
   "source": [
    "#| hide\n",
    "\n",
    "import nbdev; nbdev.nbdev_export()"
   ]
  },
  {
   "cell_type": "code",
   "execution_count": null,
   "metadata": {},
   "outputs": [],
   "source": []
  }
 ],
 "metadata": {
  "kernelspec": {
   "display_name": ".venv",
   "language": "python",
   "name": "python3"
  },
  "language_info": {
   "codemirror_mode": {
    "name": "ipython",
    "version": 3
   },
   "file_extension": ".py",
   "mimetype": "text/x-python",
   "name": "python",
   "nbconvert_exporter": "python",
   "pygments_lexer": "ipython3",
   "version": "3.10.8"
  }
 },
 "nbformat": 4,
 "nbformat_minor": 2
}
