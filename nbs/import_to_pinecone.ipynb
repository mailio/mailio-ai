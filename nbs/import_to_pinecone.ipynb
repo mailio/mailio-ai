{
 "cells": [
  {
   "cell_type": "code",
   "execution_count": 2,
   "metadata": {},
   "outputs": [],
   "source": [
    "#| default_exp import_to_pinecone\n",
    "\n",
    "%load_ext autoreload\n",
    "%autoreload 2"
   ]
  },
  {
   "cell_type": "code",
   "execution_count": 3,
   "metadata": {},
   "outputs": [
    {
     "name": "stderr",
     "output_type": "stream",
     "text": [
      "/Users/igor/workspace/mailio-ai/.venv/lib/python3.9/site-packages/urllib3/__init__.py:35: NotOpenSSLWarning: urllib3 v2 only supports OpenSSL 1.1.1+, currently the 'ssl' module is compiled with 'LibreSSL 2.8.3'. See: https://github.com/urllib3/urllib3/issues/3020\n",
      "  warnings.warn(\n",
      "/Users/igor/workspace/mailio-ai/.venv/lib/python3.9/site-packages/pinecone/data/index.py:1: TqdmWarning: IProgress not found. Please update jupyter and ipywidgets. See https://ipywidgets.readthedocs.io/en/stable/user_install.html\n",
      "  from tqdm.autonotebook import tqdm\n",
      "[nltk_data] Downloading package punkt to /Users/igor/nltk_data...\n",
      "[nltk_data]   Package punkt is already up-to-date!\n",
      "[nltk_data] Downloading package punkt_tab to /Users/igor/nltk_data...\n",
      "[nltk_data]   Package punkt_tab is already up-to-date!\n"
     ]
    }
   ],
   "source": [
    "#| export\n",
    "\n",
    "import yaml\n",
    "from typing import Dict\n",
    "from pinecone.grpc import PineconeGRPC as Pinecone\n",
    "from pinecone import ServerlessSpec\n",
    "from tqdm.auto import tqdm\n",
    "import binascii\n",
    "from ibmcloudant.cloudant_v1 import CloudantV1\n",
    "from ibm_cloud_sdk_core.authenticators import BasicAuthenticator\n",
    "import nltk\n",
    "import os\n",
    "import sys\n",
    "from transformers import AutoTokenizer, AutoModel\n",
    "import torch.nn.functional as F\n",
    "import torch\n",
    "import numpy as np\n",
    "import argparse\n",
    "import time \n",
    "\n",
    "project_root = os.path.abspath(os.path.join(os.getcwd(), '..'))\n",
    "sys.path.append(project_root)\n",
    "\n",
    "from tools.optimal_embeddings_model.mailio_ai_libs.collect_emails import list_emails\n",
    "from tools.optimal_embeddings_model.data_types.email import Email, MessageType\n",
    "from api.services.embedding_service import EmbeddingService"
   ]
  },
  {
   "cell_type": "code",
   "execution_count": 4,
   "metadata": {},
   "outputs": [],
   "source": [
    "#| export\n",
    "\n",
    "def load_config(path:str) -> Dict:\n",
    "    with open(path, 'r') as f:\n",
    "        config = yaml.safe_load(f)\n",
    "    return config"
   ]
  },
  {
   "cell_type": "code",
   "execution_count": 5,
   "metadata": {},
   "outputs": [],
   "source": [
    "cfg = load_config('../config.yaml')"
   ]
  },
  {
   "cell_type": "code",
   "execution_count": 6,
   "metadata": {},
   "outputs": [],
   "source": [
    "#| export\n",
    "\n",
    "def connect_pinecone(cfg:Dict) -> Pinecone:\n",
    "    pinecone_cfg = cfg.get(\"pinecone\")\n",
    "    pc = Pinecone(api_key=pinecone_cfg.get(\"api_key\"))\n",
    "    spec = ServerlessSpec(cloud=pinecone_cfg.get(\"cloud\"), region=pinecone_cfg.get(\"region\"))\n",
    "    index = pc.Index(host=pinecone_cfg.get(\"index_name\"))\n",
    "    return index"
   ]
  },
  {
   "cell_type": "code",
   "execution_count": 7,
   "metadata": {},
   "outputs": [],
   "source": [
    "#| export\n",
    "\n",
    "def get_db_name(address:str) -> str:\n",
    "    return \"userdb-\" + binascii.hexlify(address.encode()).decode() \n",
    "\n",
    "def connect_couchdb(cfg:Dict) -> CloudantV1:\n",
    "    couch_cfg = cfg.get(\"couchdb\")\n",
    "    auth = BasicAuthenticator(couch_cfg.get(\"username\"), couch_cfg.get(\"password\"))\n",
    "    client = CloudantV1(authenticator=auth)\n",
    "    client.set_service_url(couch_cfg.get(\"host\"))\n",
    "    client.set_disable_ssl_verification(True)\n",
    "    return client"
   ]
  },
  {
   "cell_type": "code",
   "execution_count": 8,
   "metadata": {},
   "outputs": [],
   "source": [
    "#| export\n",
    "\n",
    "# load transformers model\n",
    "def load_embedding_service(cfg: Dict) -> EmbeddingService:\n",
    "    embedding_service = EmbeddingService(cfg)\n",
    "    return embedding_service"
   ]
  },
  {
   "cell_type": "code",
   "execution_count": 9,
   "metadata": {},
   "outputs": [],
   "source": [
    "#| export\n",
    "\n",
    "# default folders for import\n",
    "DEFAULT_FOLDERS = [\"inbox\", \"goodreads\", \"archive\", \"sent\"]\n",
    "\n",
    "def import_to_pinecode(client, index, embedding_service:EmbeddingService, user_db: str, address:str, folders: str, batch_size:int = 500):\n",
    "    \"\"\"\n",
    "    Import emails from couchdb to pinecone index\n",
    "    Args:\n",
    "        client: CloudantV1 client\n",
    "        embedding_service: EmbeddingService object\n",
    "        user_db: user db name\n",
    "        folders: list of folders to import\n",
    "        batch_size: batch size for import\n",
    "    Results:\n",
    "        None\n",
    "    \"\"\"\n",
    "    processed = 0\n",
    "\n",
    "    all_vectors = []\n",
    "\n",
    "    for folder in folders:\n",
    "        bookmark = \"\"\n",
    "        while True:\n",
    "            for emails, new_bookmark in list_emails(client, user_db, folder, bookmark=bookmark, limit=batch_size):\n",
    "                if len(emails) == 0:\n",
    "                    bookmark = None\n",
    "                    break\n",
    "\n",
    "                # prepare data for import\n",
    "                vectors = []\n",
    "                for e in tqdm(emails, desc=f\"Importing {folder}\", unit=\"email\"):\n",
    "                    metadata = {\n",
    "                        \"created\": e.created,\n",
    "                        \"from\": e.sender_email,\n",
    "                        \"from_name\": e.sender_name,\n",
    "                        \"folder\": e.folder,\n",
    "                    }\n",
    "                    \n",
    "                    embedding = embedding_service.create_embedding(e)\n",
    "\n",
    "                    vector = {\n",
    "                        \"id\": e.message_id,\n",
    "                        \"values\": embedding[0].tolist(),\n",
    "                        \"metadata\": metadata,\n",
    "                    }\n",
    "                    vectors.append(vector)\n",
    "                    processed += 1\n",
    "                \n",
    "                # upsert to pinecone\n",
    "                index.upsert(vectors=vectors, namespace=address)\n",
    "\n",
    "                bookmark = new_bookmark\n",
    "            if not bookmark:\n",
    "                break \n",
    "\n",
    "    print(f\"Processed {processed} emails\")\n",
    "    return all_vectors\n"
   ]
  },
  {
   "cell_type": "code",
   "execution_count": 13,
   "metadata": {},
   "outputs": [],
   "source": [
    "#| export\n",
    "\n",
    "import pickle\n",
    "\n",
    "def main(address:str):\n",
    "    cfg = load_config('../config.yaml')\n",
    "    client = connect_couchdb(cfg)\n",
    "    index = connect_pinecone(cfg)\n",
    "    embedding_service = load_embedding_service(cfg)\n",
    "    user_db = get_db_name(address)\n",
    "    all_vectors = import_to_pinecode(client, index, embedding_service, user_db, address, DEFAULT_FOLDERS, batch_size=500)\n",
    "    print(f\"generated {len(all_vectors)} vectors\")\n",
    "    # store to file\n",
    "    with open(f\"vectors_{address}.pkl\", \"wb\") as f:\n",
    "        pickle.dump(all_vectors, f)\n"
   ]
  },
  {
   "cell_type": "code",
   "execution_count": 14,
   "metadata": {},
   "outputs": [
    {
     "name": "stdout",
     "output_type": "stream",
     "text": [
      "EmbeddingService using device: cpu\n"
     ]
    },
    {
     "name": "stderr",
     "output_type": "stream",
     "text": [
      "Importing inbox: 100%|██████████| 497/497 [00:00<00:00, 336709.59email/s]\n",
      "Importing inbox: 100%|██████████| 491/491 [00:00<00:00, 720071.07email/s]\n",
      "Importing inbox: 100%|██████████| 500/500 [00:00<00:00, 643495.55email/s]\n",
      "Importing inbox: 100%|██████████| 500/500 [00:00<00:00, 345267.04email/s]\n",
      "Importing inbox: 100%|██████████| 499/499 [00:00<00:00, 705887.92email/s]\n",
      "Importing inbox: 100%|██████████| 207/207 [00:00<00:00, 655261.08email/s]\n",
      "Importing goodreads: 100%|██████████| 496/496 [00:00<00:00, 673914.73email/s]\n",
      "Importing goodreads: 100%|██████████| 499/499 [00:00<00:00, 707797.67email/s]\n",
      "Importing goodreads: 100%|██████████| 500/500 [00:00<00:00, 697655.36email/s]\n",
      "Importing goodreads: 100%|██████████| 500/500 [00:00<00:00, 674542.30email/s]\n",
      "Importing goodreads: 100%|██████████| 500/500 [00:00<00:00, 575508.23email/s]\n",
      "Importing goodreads: 100%|██████████| 500/500 [00:00<00:00, 359717.32email/s]\n",
      "Importing goodreads: 100%|██████████| 500/500 [00:00<00:00, 534851.31email/s]\n",
      "Importing goodreads: 100%|██████████| 500/500 [00:00<00:00, 455803.52email/s]\n",
      "Importing goodreads: 100%|██████████| 29/29 [00:00<00:00, 412321.41email/s]\n",
      "Importing archive: 100%|██████████| 500/500 [00:00<00:00, 647668.93email/s]\n",
      "Importing archive: 100%|██████████| 500/500 [00:00<00:00, 274856.09email/s]\n",
      "Importing archive: 100%|██████████| 500/500 [00:00<00:00, 127812.77email/s]\n",
      "Importing archive: 100%|██████████| 497/497 [00:00<00:00, 586046.97email/s]\n",
      "Importing archive: 100%|██████████| 500/500 [00:00<00:00, 298867.32email/s]\n",
      "Importing archive: 100%|██████████| 500/500 [00:00<00:00, 243204.45email/s]\n",
      "Importing archive: 100%|██████████| 500/500 [00:00<00:00, 18435.37email/s]\n",
      "Importing archive: 100%|██████████| 500/500 [00:00<00:00, 163763.24email/s]\n",
      "Importing archive: 100%|██████████| 498/498 [00:00<00:00, 197388.34email/s]\n",
      "Importing archive: 100%|██████████| 500/500 [00:00<00:00, 667670.17email/s]\n",
      "Importing archive: 100%|██████████| 500/500 [00:00<00:00, 707302.53email/s]\n",
      "Importing archive: 100%|██████████| 219/219 [00:00<00:00, 620224.56email/s]"
     ]
    },
    {
     "name": "stdout",
     "output_type": "stream",
     "text": [
      "Processed 12432 emails\n",
      "generated 12432 vectors\n"
     ]
    },
    {
     "name": "stderr",
     "output_type": "stream",
     "text": [
      "\n"
     ]
    }
   ],
   "source": [
    "main(address=\"0x139d1fe7306dd2b22c95c8e8343e5163fcc8aa09\")"
   ]
  },
  {
   "cell_type": "code",
   "execution_count": null,
   "metadata": {},
   "outputs": [],
   "source": [
    "address=\"0x139d1fe7306dd2b22c95c8e8343e5163fcc8aa09\"\n",
    "client = connect_couchdb(cfg)\n",
    "index = connect_pinecone(cfg)\n",
    "embedder = load_embedder(cfg)\n",
    "user_db = get_db_name(address)\n",
    "\n",
    "import_to_pinecode(client, index, embedder, user_db, address, DEFAULT_FOLDERS, batch_size=250)"
   ]
  },
  {
   "cell_type": "code",
   "execution_count": null,
   "metadata": {},
   "outputs": [],
   "source": [
    "address = \"0x139d1fe7306dd2b22c95c8e8343e5163fcc8aa09\""
   ]
  },
  {
   "cell_type": "code",
   "execution_count": 35,
   "metadata": {},
   "outputs": [
    {
     "name": "stderr",
     "output_type": "stream",
     "text": [
      "usage: ipykernel_launcher.py [-h] address\n",
      "ipykernel_launcher.py: error: the following arguments are required: address\n"
     ]
    },
    {
     "ename": "SystemExit",
     "evalue": "2",
     "output_type": "error",
     "traceback": [
      "An exception has occurred, use %tb to see the full traceback.\n",
      "\u001b[0;31mSystemExit\u001b[0m\u001b[0;31m:\u001b[0m 2\n"
     ]
    },
    {
     "name": "stderr",
     "output_type": "stream",
     "text": [
      "/Users/igor/workspace/mailio-ai/.venv/lib/python3.9/site-packages/IPython/core/interactiveshell.py:3558: UserWarning: To exit: use 'exit', 'quit', or Ctrl-D.\n",
      "  warn(\"To exit: use 'exit', 'quit', or Ctrl-D.\", stacklevel=1)\n"
     ]
    }
   ],
   "source": [
    "#| export\n",
    "\n",
    "if __name__ == \"__main__\":\n",
    "    parser = argparse.ArgumentParser(description=\"Run the main function with an address argument.\")\n",
    "    parser.add_argument(\"address\", type=str, help=\"The address to process\")\n",
    "    args = parser.parse_args()\n",
    "    address = args.address\n",
    "    if not address:\n",
    "        print(\"Please provide an address\")\n",
    "        sys.exit(1)\n",
    "    main(address)"
   ]
  },
  {
   "cell_type": "code",
   "execution_count": 36,
   "metadata": {},
   "outputs": [],
   "source": [
    "#| hide\n",
    "\n",
    "import nbdev; nbdev.nbdev_export()"
   ]
  },
  {
   "cell_type": "code",
   "execution_count": null,
   "metadata": {},
   "outputs": [],
   "source": []
  }
 ],
 "metadata": {
  "kernelspec": {
   "display_name": ".venv",
   "language": "python",
   "name": "python3"
  },
  "language_info": {
   "codemirror_mode": {
    "name": "ipython",
    "version": 3
   },
   "file_extension": ".py",
   "mimetype": "text/x-python",
   "name": "python",
   "nbconvert_exporter": "python",
   "pygments_lexer": "ipython3",
   "version": "3.9.6"
  }
 },
 "nbformat": 4,
 "nbformat_minor": 2
}
