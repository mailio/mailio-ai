{
 "cells": [
  {
   "cell_type": "code",
   "execution_count": 1,
   "metadata": {},
   "outputs": [],
   "source": [
    "#| default_exp import_to_pinecone\n",
    "\n",
    "%load_ext autoreload\n",
    "%autoreload 2"
   ]
  },
  {
   "cell_type": "code",
   "execution_count": 2,
   "metadata": {},
   "outputs": [
    {
     "name": "stderr",
     "output_type": "stream",
     "text": [
      "/Users/igor/workspace/mailio-ai/.venv/lib/python3.10/site-packages/pinecone/data/index.py:1: TqdmWarning: IProgress not found. Please update jupyter and ipywidgets. See https://ipywidgets.readthedocs.io/en/stable/user_install.html\n",
      "  from tqdm.autonotebook import tqdm\n",
      "[nltk_data] Downloading package punkt to /Users/igor/nltk_data...\n",
      "[nltk_data]   Package punkt is already up-to-date!\n",
      "[nltk_data] Downloading package punkt_tab to /Users/igor/nltk_data...\n",
      "[nltk_data]   Package punkt_tab is already up-to-date!\n"
     ]
    }
   ],
   "source": [
    "#| export\n",
    "\n",
    "import yaml\n",
    "from typing import Dict\n",
    "from pinecone.grpc import PineconeGRPC as Pinecone\n",
    "from pinecone import ServerlessSpec\n",
    "from tqdm.auto import tqdm\n",
    "import binascii\n",
    "from ibmcloudant.cloudant_v1 import CloudantV1\n",
    "from ibm_cloud_sdk_core.authenticators import BasicAuthenticator\n",
    "import nltk\n",
    "import os\n",
    "import sys\n",
    "from transformers import AutoTokenizer, AutoModel\n",
    "import torch.nn.functional as F\n",
    "import torch\n",
    "import numpy as np\n",
    "import argparse\n",
    "\n",
    "project_root = os.path.abspath(os.path.join(os.getcwd(), '..'))\n",
    "sys.path.append(project_root)\n",
    "\n",
    "from tools.optimal_embeddings_model.mailio_ai_libs.collect_emails import list_emails\n",
    "from tools.optimal_embeddings_model.mailio_ai_libs.create_embeddings import Embedder"
   ]
  },
  {
   "cell_type": "code",
   "execution_count": 3,
   "metadata": {},
   "outputs": [],
   "source": [
    "#| export\n",
    "\n",
    "def load_config(path:str) -> Dict:\n",
    "    with open(path, 'r') as f:\n",
    "        config = yaml.safe_load(f)\n",
    "    return config"
   ]
  },
  {
   "cell_type": "code",
   "execution_count": 4,
   "metadata": {},
   "outputs": [],
   "source": [
    "cfg = load_config('../config.yaml')"
   ]
  },
  {
   "cell_type": "code",
   "execution_count": 5,
   "metadata": {},
   "outputs": [],
   "source": [
    "#| export\n",
    "\n",
    "def connect_pinecone(cfg:Dict) -> Pinecone:\n",
    "    pinecone_cfg = cfg.get(\"pinecone\")\n",
    "    pc = Pinecone(api_key=pinecone_cfg.get(\"api_key\"))\n",
    "    spec = ServerlessSpec(cloud=pinecone_cfg.get(\"cloud\"), region=pinecone_cfg.get(\"region\"))\n",
    "    index = pc.Index(host=pinecone_cfg.get(\"index_name\"))\n",
    "    return index"
   ]
  },
  {
   "cell_type": "code",
   "execution_count": 6,
   "metadata": {},
   "outputs": [],
   "source": [
    "#| export\n",
    "\n",
    "def get_db_name(address:str) -> str:\n",
    "    return \"userdb-\" + binascii.hexlify(address.encode()).decode() \n",
    "\n",
    "def connect_couchdb(cfg:Dict) -> CloudantV1:\n",
    "    couch_cfg = cfg.get(\"couchdb\")\n",
    "    auth = BasicAuthenticator(couch_cfg.get(\"username\"), couch_cfg.get(\"password\"))\n",
    "    client = CloudantV1(authenticator=auth)\n",
    "    client.set_service_url(couch_cfg.get(\"host\"))\n",
    "    client.set_disable_ssl_verification(True)\n",
    "    return client"
   ]
  },
  {
   "cell_type": "code",
   "execution_count": 7,
   "metadata": {},
   "outputs": [],
   "source": [
    "#| export\n",
    "\n",
    "# load transformers model\n",
    "def load_embedder(cfg: Dict) -> Embedder:\n",
    "    model_id = cfg.get(\"ai\").get(\"embedding_model\")\n",
    "    print(f\"Loading model {model_id}\")\n",
    "    tokenizer = AutoTokenizer.from_pretrained(model_id)\n",
    "    model = AutoModel.from_pretrained(model_id)\n",
    "\n",
    "    device = \"cuda\" if torch.cuda.is_available() else \"mps\" if torch.backends.mps.is_available() else \"cpu\"\n",
    "    print(f\"device: {device}\")\n",
    "    model.to(device)\n",
    "\n",
    "    embedder = Embedder(model, tokenizer)\n",
    "    return embedder"
   ]
  },
  {
   "cell_type": "code",
   "execution_count": 19,
   "metadata": {},
   "outputs": [],
   "source": [
    "#| export\n",
    "\n",
    "# default folders for import\n",
    "DEFAULT_FOLDERS = [\"inbox\", \"goodreads\", \"archive\", \"sent\"]\n",
    "\n",
    "def import_to_pinecode(client, index, embedder:Embedder, user_db: str, address:str, folders: str, batch_size:int = 500):\n",
    "    \"\"\"\n",
    "    Import emails from couchdb to pinecone index\n",
    "    Args:\n",
    "        client: CloudantV1 client\n",
    "        embedder: Embedder object\n",
    "        user_db: user db name\n",
    "        folders: list of folders to import\n",
    "        batch_size: batch size for import\n",
    "    Results:\n",
    "        None\n",
    "    \"\"\"\n",
    "    processed = 0\n",
    "\n",
    "    for folder in folders:\n",
    "        bookmark = \"\"\n",
    "        while True:\n",
    "            for emails, new_bookmark in list_emails(client, user_db, folder, bookmark=bookmark, limit=batch_size):\n",
    "                if len(emails) == 0:\n",
    "                    bookmark = None\n",
    "                    break\n",
    "                \n",
    "                # prepare data for import\n",
    "                vectors = []\n",
    "                for e in tqdm(emails, desc=f\"Importing {folder}\", unit=\"email\"):\n",
    "                    sentences = []\n",
    "                    if e.subject:\n",
    "                        sentences.append(e.subject)\n",
    "                    sentences.extend(e.sentences)\n",
    "\n",
    "                    metadata = {\n",
    "                        \"created\": e.created,\n",
    "                        \"from\": e.sender_email,\n",
    "                        \"from_name\": e.sender_name,\n",
    "                        \"folder\": e.folder,\n",
    "                    }\n",
    "                    # sanity check only\n",
    "                    text = \" \".join(sentences)\n",
    "                    print(\"text: \", text)\n",
    "                    if not text.strip():\n",
    "                        print(f\"Empty email {e.message_id}, subject: {e.subject}, text: {text}, from: {e.sender_email}\")    \n",
    "                        continue\n",
    "\n",
    "                    embedding = embedder.embed(sentences)\n",
    "\n",
    "                    vector = {\n",
    "                        \"id\": e.message_id,\n",
    "                        \"values\": embedding[0].tolist(),\n",
    "                        \"metadata\": metadata,\n",
    "                    }\n",
    "                    vectors.append(vector)\n",
    "                    processed += 1\n",
    "                \n",
    "                # upsert to pinecone\n",
    "                index.upsert(vectors=vectors, namespace=address)\n",
    "\n",
    "                bookmark = new_bookmark\n",
    "            if not bookmark:\n",
    "                break\n",
    "\n",
    "    print(f\"Processed {processed} emails\")\n"
   ]
  },
  {
   "cell_type": "code",
   "execution_count": 20,
   "metadata": {},
   "outputs": [],
   "source": [
    "#| export\n",
    "\n",
    "def main(address:str):\n",
    "    cfg = load_config('../config.yaml')\n",
    "    client = connect_couchdb(cfg)\n",
    "    index = connect_pinecone(cfg)\n",
    "    embedder = load_embedder(cfg)\n",
    "    user_db = get_db_name(address)\n",
    "    import_to_pinecode(client, index, embedder, user_db, address, DEFAULT_FOLDERS)"
   ]
  },
  {
   "cell_type": "code",
   "execution_count": 17,
   "metadata": {},
   "outputs": [],
   "source": [
    "# main(address=\"0x139d1fe7306dd2b22c95c8e8343e5163fcc8aa09\")"
   ]
  },
  {
   "cell_type": "code",
   "execution_count": null,
   "metadata": {},
   "outputs": [],
   "source": [
    "address=\"0x139d1fe7306dd2b22c95c8e8343e5163fcc8aa09\"\n",
    "client = connect_couchdb(cfg)\n",
    "index = connect_pinecone(cfg)\n",
    "embedder = load_embedder(cfg)\n",
    "user_db = get_db_name(address)\n",
    "\n",
    "import_to_pinecode(client, index, embedder, user_db, address, DEFAULT_FOLDERS, batch_size=250)"
   ]
  },
  {
   "cell_type": "code",
   "execution_count": null,
   "metadata": {},
   "outputs": [],
   "source": [
    "address = \"0x139d1fe7306dd2b22c95c8e8343e5163fcc8aa09\""
   ]
  },
  {
   "cell_type": "code",
   "execution_count": null,
   "metadata": {},
   "outputs": [],
   "source": [
    "#| export\n",
    "\n",
    "if __name__ == \"__main__\":\n",
    "    parser = argparse.ArgumentParser(description=\"Run the main function with an address argument.\")\n",
    "    parser.add_argument(\"address\", type=str, help=\"The address to process\")\n",
    "    args = parser.parse_args()\n",
    "    address = args.address\n",
    "    if not address:\n",
    "        print(\"Please provide an address\")\n",
    "        sys.exit(1)\n",
    "    main(address)"
   ]
  },
  {
   "cell_type": "code",
   "execution_count": 5,
   "metadata": {},
   "outputs": [],
   "source": [
    "#| hide\n",
    "\n",
    "import nbdev; nbdev.nbdev_export()"
   ]
  },
  {
   "cell_type": "code",
   "execution_count": null,
   "metadata": {},
   "outputs": [],
   "source": []
  }
 ],
 "metadata": {
  "kernelspec": {
   "display_name": ".venv",
   "language": "python",
   "name": "python3"
  },
  "language_info": {
   "codemirror_mode": {
    "name": "ipython",
    "version": 3
   },
   "file_extension": ".py",
   "mimetype": "text/x-python",
   "name": "python",
   "nbconvert_exporter": "python",
   "pygments_lexer": "ipython3",
   "version": "3.9.6"
  }
 },
 "nbformat": 4,
 "nbformat_minor": 2
}
